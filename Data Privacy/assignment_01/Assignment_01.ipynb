{
 "cells": [
  {
   "cell_type": "code",
   "execution_count": 10,
   "id": "58bdcc25",
   "metadata": {},
   "outputs": [],
   "source": [
    "import pandas as pd\n",
    "\n",
    "f = pd.read_csv('/home/douglas/Documents/college-2022.1/Data Privacy/assignment_01/Dataset_Covid_CE.csv', low_memory=False)"
   ]
  },
  {
   "cell_type": "code",
   "execution_count": 28,
   "id": "941ffb80",
   "metadata": {
    "scrolled": true
   },
   "outputs": [
    {
     "data": {
      "text/plain": [
       "0                                       NaN\n",
       "1                                       NaN\n",
       "2                                       NaN\n",
       "3                                       NaN\n",
       "4                                       NaN\n",
       "                         ...               \n",
       "1266272    034184a3bba5a9d9020c6f78287cfb30\n",
       "1266273    7f4c28d219dd03de2457b16de64563a0\n",
       "1266274    4f8257be1fefe7e9a3b17f08247792c6\n",
       "1266275    2b610df8ede251af2e17a6ac07726678\n",
       "1266276    d4ba826d7f018ef730718faf76668d73\n",
       "Name: identificadorCaso, Length: 1266277, dtype: object"
      ]
     },
     "execution_count": 28,
     "metadata": {},
     "output_type": "execute_result"
    }
   ],
   "source": [
    "f[\"identificadorCaso\"]"
   ]
  },
  {
   "cell_type": "code",
   "execution_count": null,
   "id": "6ba0612d",
   "metadata": {},
   "outputs": [],
   "source": []
  },
  {
   "cell_type": "code",
   "execution_count": null,
   "id": "f8d1b15f",
   "metadata": {},
   "outputs": [],
   "source": []
  }
 ],
 "metadata": {
  "kernelspec": {
   "display_name": "Python 3 (ipykernel)",
   "language": "python",
   "name": "python3"
  },
  "language_info": {
   "codemirror_mode": {
    "name": "ipython",
    "version": 3
   },
   "file_extension": ".py",
   "mimetype": "text/x-python",
   "name": "python",
   "nbconvert_exporter": "python",
   "pygments_lexer": "ipython3",
   "version": "3.9.12"
  }
 },
 "nbformat": 4,
 "nbformat_minor": 5
}
