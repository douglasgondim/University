{
 "cells": [
  {
   "cell_type": "markdown",
   "metadata": {
    "id": "DCxo9194y2Aq"
   },
   "source": [
    "# Bibliotecas para manipulação de dados\n",
    "---"
   ]
  },
  {
   "cell_type": "markdown",
   "metadata": {
    "id": "gzmgeWP5FF-_"
   },
   "source": [
    "## Numpy\n",
    "\n",
    "O Numpy é uma biblioteca voltada para a manipulação de matrizes. Ela traz consigo um conjunto de métodos e funções para trabalhar sobre sua entidade `array`.\n",
    "\n",
    "Diferente das listas do Python, um array é muito mais otimizado:\n",
    "\n",
    "- utiliza algoritmos escritos em C, permitindo que as operações rodem em nanosegundos;\n",
    "- diminui a necessidade de usar loops, uma vez que quase todas as operações podem ser escritas de forma matricial;\n",
    "- a implementação das equações torna-se mais limpa, deixando o código mais expressivo;\n",
    "- com uma comunidade muito ativa, a biblioteca está sempre evoluindo."
   ]
  },
  {
   "cell_type": "code",
   "execution_count": null,
   "metadata": {
    "id": "tPOCPK6ZpVwx"
   },
   "outputs": [],
   "source": [
    "import numpy as np"
   ]
  },
  {
   "cell_type": "markdown",
   "metadata": {
    "id": "v-C1VZTft1SS"
   },
   "source": [
    "### Vetores\n",
    "\n",
    "Vetores são um tipo específico de matrizes bi-dimensionais (m x n), onde uma de suas dimensões é 1. Existem 2 tipos de vetores: o coluna (1 x n) e o linha (m x 1). \n",
    "\n",
    "**OBS**: Algebricamente, um vetor linha não pode ser utilizado da mesma forma que um vetor coluna, uma vez que as dimensões podem não bater. Entretanto, o numpy deixa isso transparente para nós, adaptando o vetor para ser usado como linha OU coluna, conforme for necessário."
   ]
  },
  {
   "cell_type": "code",
   "execution_count": 9,
   "metadata": {
    "colab": {
     "base_uri": "https://localhost:8080/"
    },
    "executionInfo": {
     "elapsed": 663,
     "status": "ok",
     "timestamp": 1621537978133,
     "user": {
      "displayName": "Lucas Peres",
      "photoUrl": "https://lh3.googleusercontent.com/a-/AOh14GhAmWsfdcPr7ldFfZ6ZmysZV75wsbmmI87oJl2ZXQ=s64",
      "userId": "11950412691737885275"
     },
     "user_tz": 180
    },
    "id": "OzNq87m-qB53",
    "outputId": "105fda8a-cef0-4f24-cbbb-b29d4e1e7e40"
   },
   "outputs": [
    {
     "name": "stdout",
     "output_type": "stream",
     "text": [
      "\n",
      "A partir de uma lista: [1 2 3]\n",
      "Utilizando funções pré-definidas:\n",
      "  [1. 1. 1.]\n",
      "  [0. 0. 0.]\n",
      "  [-0.12241974  1.07932127  0.02202755]\n",
      "  [0 3 6 9]\n",
      "\n"
     ]
    }
   ],
   "source": [
    "# Formas de criar um array: \n",
    "print(f\"\"\"\n",
    "A partir de uma lista: {np.array([1,2,3])}\n",
    "Utilizando funções pré-definidas:\n",
    "  {np.ones(3)}\n",
    "  {np.zeros(3)}\n",
    "  {np.random.randn(3)}\n",
    "  {np.arange(start=0,stop=10,step=3)}\n",
    "\"\"\")"
   ]
  },
  {
   "cell_type": "code",
   "execution_count": 17,
   "metadata": {
    "colab": {
     "base_uri": "https://localhost:8080/"
    },
    "executionInfo": {
     "elapsed": 411,
     "status": "ok",
     "timestamp": 1621538384430,
     "user": {
      "displayName": "Lucas Peres",
      "photoUrl": "https://lh3.googleusercontent.com/a-/AOh14GhAmWsfdcPr7ldFfZ6ZmysZV75wsbmmI87oJl2ZXQ=s64",
      "userId": "11950412691737885275"
     },
     "user_tz": 180
    },
    "id": "-mnduewxqSAU",
    "outputId": "7ef51b19-1287-4405-8074-355edbd3fdf2"
   },
   "outputs": [
    {
     "data": {
      "text/plain": [
       "(3,)"
      ]
     },
     "execution_count": 17,
     "metadata": {
      "tags": []
     },
     "output_type": "execute_result"
    }
   ],
   "source": [
    "a = np.ones(3)\n",
    "a.shape # o shape de um array indica suas dimensões"
   ]
  },
  {
   "cell_type": "markdown",
   "metadata": {
    "id": "BLlQQenR1pCw"
   },
   "source": [
    "Os vetores trazem consigo diversos operadores, permitindo que escrevamos equações com eles, de maneira mais simples."
   ]
  },
  {
   "cell_type": "code",
   "execution_count": 18,
   "metadata": {
    "colab": {
     "base_uri": "https://localhost:8080/"
    },
    "executionInfo": {
     "elapsed": 686,
     "status": "ok",
     "timestamp": 1621538434859,
     "user": {
      "displayName": "Lucas Peres",
      "photoUrl": "https://lh3.googleusercontent.com/a-/AOh14GhAmWsfdcPr7ldFfZ6ZmysZV75wsbmmI87oJl2ZXQ=s64",
      "userId": "11950412691737885275"
     },
     "user_tz": 180
    },
    "id": "QFHlEk5VqtyQ",
    "outputId": "173cae06-c250-4dea-eddb-24a5b705a31d"
   },
   "outputs": [
    {
     "data": {
      "text/plain": [
       "array([3., 3., 3.])"
      ]
     },
     "execution_count": 18,
     "metadata": {
      "tags": []
     },
     "output_type": "execute_result"
    }
   ],
   "source": [
    "3 * a"
   ]
  },
  {
   "cell_type": "code",
   "execution_count": 19,
   "metadata": {
    "colab": {
     "base_uri": "https://localhost:8080/"
    },
    "executionInfo": {
     "elapsed": 758,
     "status": "ok",
     "timestamp": 1621538444680,
     "user": {
      "displayName": "Lucas Peres",
      "photoUrl": "https://lh3.googleusercontent.com/a-/AOh14GhAmWsfdcPr7ldFfZ6ZmysZV75wsbmmI87oJl2ZXQ=s64",
      "userId": "11950412691737885275"
     },
     "user_tz": 180
    },
    "id": "09ck3xOuqu2I",
    "outputId": "6db37e5c-d8d0-4a2b-e8ef-d2dcc823f141"
   },
   "outputs": [
    {
     "data": {
      "text/plain": [
       "array([0.33333333, 0.33333333, 0.33333333])"
      ]
     },
     "execution_count": 19,
     "metadata": {
      "tags": []
     },
     "output_type": "execute_result"
    }
   ],
   "source": [
    "a / 3"
   ]
  },
  {
   "cell_type": "code",
   "execution_count": 23,
   "metadata": {
    "colab": {
     "base_uri": "https://localhost:8080/"
    },
    "executionInfo": {
     "elapsed": 698,
     "status": "ok",
     "timestamp": 1621538556855,
     "user": {
      "displayName": "Lucas Peres",
      "photoUrl": "https://lh3.googleusercontent.com/a-/AOh14GhAmWsfdcPr7ldFfZ6ZmysZV75wsbmmI87oJl2ZXQ=s64",
      "userId": "11950412691737885275"
     },
     "user_tz": 180
    },
    "id": "Tjc1Vo7GqwsM",
    "outputId": "506650d8-9793-4347-8333-4524447ddd5f"
   },
   "outputs": [
    {
     "name": "stderr",
     "output_type": "stream",
     "text": [
      "/usr/local/lib/python3.7/dist-packages/ipykernel_launcher.py:1: RuntimeWarning: divide by zero encountered in true_divide\n",
      "  \"\"\"Entry point for launching an IPython kernel.\n"
     ]
    },
    {
     "data": {
      "text/plain": [
       "array([2.        ,        inf, 0.66666667])"
      ]
     },
     "execution_count": 23,
     "metadata": {
      "tags": []
     },
     "output_type": "execute_result"
    }
   ],
   "source": [
    "(2 / a)"
   ]
  },
  {
   "cell_type": "markdown",
   "metadata": {
    "id": "bgfOil9c15W4"
   },
   "source": [
    "Para acessar um (sub-)conjunto de elementos de um vetor, podemos utilizar os índices:"
   ]
  },
  {
   "cell_type": "code",
   "execution_count": 24,
   "metadata": {
    "colab": {
     "base_uri": "https://localhost:8080/"
    },
    "executionInfo": {
     "elapsed": 1427,
     "status": "ok",
     "timestamp": 1621538781850,
     "user": {
      "displayName": "Lucas Peres",
      "photoUrl": "https://lh3.googleusercontent.com/a-/AOh14GhAmWsfdcPr7ldFfZ6ZmysZV75wsbmmI87oJl2ZXQ=s64",
      "userId": "11950412691737885275"
     },
     "user_tz": 180
    },
    "id": "PVOz4G8Htn-P",
    "outputId": "6ea13423-fa02-49cb-ce64-6a08603d6fb3"
   },
   "outputs": [
    {
     "name": "stdout",
     "output_type": "stream",
     "text": [
      "[-0.88624947  0.28284463  1.33304419 -1.1205079  -1.10552975]\n",
      "\n",
      "Acessando uma posição: -0.8862494728610119\n",
      "Acessando um intervalo de posições: [-0.88624947  0.28284463]\n",
      "Acessando por lista de índices: [ 0.28284463 -1.1205079 ]\n",
      "Acessando com condições: [-0.88624947 -1.1205079  -1.10552975]\n",
      "\n"
     ]
    }
   ],
   "source": [
    "a = np.random.randn(5)\n",
    "print(a)\n",
    "print(f\"\"\"\n",
    "Acessando uma posição: {a[0]}\n",
    "Acessando um intervalo de posições: {a[:2]}\n",
    "Acessando por lista de índices: {a[[1,3]]}\n",
    "Acessando com condições: {a[a < 0]}\n",
    "\"\"\")"
   ]
  },
  {
   "cell_type": "code",
   "execution_count": 33,
   "metadata": {
    "colab": {
     "base_uri": "https://localhost:8080/"
    },
    "executionInfo": {
     "elapsed": 697,
     "status": "ok",
     "timestamp": 1621539108945,
     "user": {
      "displayName": "Lucas Peres",
      "photoUrl": "https://lh3.googleusercontent.com/a-/AOh14GhAmWsfdcPr7ldFfZ6ZmysZV75wsbmmI87oJl2ZXQ=s64",
      "userId": "11950412691737885275"
     },
     "user_tz": 180
    },
    "id": "qmSVstbFQOm-",
    "outputId": "0d0c1925-a59b-4e33-d275-5efa95ee712a"
   },
   "outputs": [
    {
     "data": {
      "text/plain": [
       "array([False,  True, False, False, False])"
      ]
     },
     "execution_count": 33,
     "metadata": {
      "tags": []
     },
     "output_type": "execute_result"
    }
   ],
   "source": [
    "a[(a > 0) & (a < 1)]"
   ]
  },
  {
   "cell_type": "markdown",
   "metadata": {
    "id": "odd0EU0hhDsh"
   },
   "source": [
    "Além disso, os vetores possuem vários métodos já implementados que ajudam muito!"
   ]
  },
  {
   "cell_type": "code",
   "execution_count": 34,
   "metadata": {
    "colab": {
     "base_uri": "https://localhost:8080/"
    },
    "executionInfo": {
     "elapsed": 804,
     "status": "ok",
     "timestamp": 1621539230180,
     "user": {
      "displayName": "Lucas Peres",
      "photoUrl": "https://lh3.googleusercontent.com/a-/AOh14GhAmWsfdcPr7ldFfZ6ZmysZV75wsbmmI87oJl2ZXQ=s64",
      "userId": "11950412691737885275"
     },
     "user_tz": 180
    },
    "id": "wkJ8WBKWg9Mn",
    "outputId": "1a822ba8-3bf1-4ac7-ed1b-0b477eedc1c2"
   },
   "outputs": [
    {
     "name": "stdout",
     "output_type": "stream",
     "text": [
      "\n",
      "Shape: (5,)\n",
      "Média: -0.2992796618788407\n",
      "Soma: -1.4963983093942035\n",
      "\n"
     ]
    }
   ],
   "source": [
    "print(f\"\"\"\n",
    "Shape: {a.shape}\n",
    "Média: {a.mean()}\n",
    "Soma: {a.sum()}\n",
    "\"\"\")"
   ]
  },
  {
   "cell_type": "markdown",
   "metadata": {
    "id": "gePTIv0b2uV0"
   },
   "source": [
    "#### Exercício\n",
    "Suponha que, em uma turma de ciência de dados, foi passada uma atividade que acabou sendo mais difícil que o esperado. O professor, com um grande coração e misericordioso, decidiu aplicar uma curva sobre as notas, a fim de ajudar os alunos. A curva funciona da seguinte maneira:\n",
    "\n",
    "> Primeiramente, calculamos a média dos alunos. Em seguida, encontramos a diferença dessa média para a média que desejávamos que os alunos tivessem. Por fim, basta somar essa diferença a todas as notas.\n",
    "\n",
    "Vocês devem implementar essa curva, usando numpy. Mas lembre-se:\n",
    "\n",
    "- o professor é justo, portanto ele não quer que nenhum aluno **seja prejudicado**;\n",
    "- a nota máxima do trabalho é 100;\n",
    "- no numpy, devemos evitar o uso de **loops** ao máximo!\n",
    "\n",
    "Entrando no espírito bondoso do professor, vai uma dica: para fazer um *clip* nos seus dados, sintam-se a vontade para pedir um *help*."
   ]
  },
  {
   "cell_type": "code",
   "execution_count": 44,
   "metadata": {
    "colab": {
     "base_uri": "https://localhost:8080/"
    },
    "executionInfo": {
     "elapsed": 657,
     "status": "ok",
     "timestamp": 1621539984346,
     "user": {
      "displayName": "Lucas Peres",
      "photoUrl": "https://lh3.googleusercontent.com/a-/AOh14GhAmWsfdcPr7ldFfZ6ZmysZV75wsbmmI87oJl2ZXQ=s64",
      "userId": "11950412691737885275"
     },
     "user_tz": 180
    },
    "id": "UtI9evJDtki5",
    "outputId": "95e3a8e3-75c6-4297-ba09-41c894b1f7b4"
   },
   "outputs": [
    {
     "name": "stdout",
     "output_type": "stream",
     "text": [
      "[72 35 64 88 51 90 74 12 91]\n"
     ]
    },
    {
     "data": {
      "text/plain": [
       "array([ 87.88888889,  50.88888889,  79.88888889, 100.        ,\n",
       "        66.88888889, 100.        ,  89.88888889,  27.88888889,\n",
       "       100.        ])"
      ]
     },
     "execution_count": 44,
     "metadata": {
      "tags": []
     },
     "output_type": "execute_result"
    }
   ],
   "source": [
    "grades = np.array([72, 35, 64, 88, 51, 90, 74, 12, 91])\n",
    "\n",
    "desired_mean = 80\n",
    "\n",
    "diff = desired_mean - grades.mean()\n",
    "\n",
    "diff = 0 if diff < 0 else diff\n",
    "\n",
    "print(grades)\n",
    "np.clip(grades + diff, grades, 100)"
   ]
  },
  {
   "cell_type": "markdown",
   "metadata": {
    "id": "osudc79Zty_6"
   },
   "source": [
    "### Matrizes\n",
    "\n",
    "Enquanto os vetores são bi-dimensionais (ou unidimensionais, na implementação do numpy), as matrizes são n-dimensionais, permitindo que manipulemos entidades de 2 ou mais dimensões.\n",
    "\n",
    "Assim como os vetores, as matrizes também possuem:\n",
    "- funções de criação (uns, zeros, random, identidade, etc.);\n",
    "- operações aritméticas (somas, divisões, etc.);\n",
    "- acesso de elementos por índices (sendo que, nas matrizes, usamos um índice para cada dimensão)."
   ]
  },
  {
   "cell_type": "code",
   "execution_count": 46,
   "metadata": {
    "colab": {
     "base_uri": "https://localhost:8080/"
    },
    "executionInfo": {
     "elapsed": 645,
     "status": "ok",
     "timestamp": 1621540148920,
     "user": {
      "displayName": "Lucas Peres",
      "photoUrl": "https://lh3.googleusercontent.com/a-/AOh14GhAmWsfdcPr7ldFfZ6ZmysZV75wsbmmI87oJl2ZXQ=s64",
      "userId": "11950412691737885275"
     },
     "user_tz": 180
    },
    "id": "sqqW0spZqS6D",
    "outputId": "0c806a9e-3bee-4989-a9ce-5de3d6a3e249"
   },
   "outputs": [
    {
     "name": "stdout",
     "output_type": "stream",
     "text": [
      "\n",
      "A partir de uma lista:\n",
      " [[1 2 3]\n",
      " [4 5 6]]\n",
      "Utilizando funções pré-definidas:\n",
      "  [[1. 1.]\n",
      " [1. 1.]\n",
      " [1. 1.]]\n",
      "\n",
      "  [[0. 0.]\n",
      " [0. 0.]\n",
      " [0. 0.]]\n",
      "\n",
      "  [[-1.15128991  0.07149012]\n",
      " [-0.02977331  0.98166457]\n",
      " [-1.51783151  0.22806025]]\n",
      "  \n",
      "  [[1. 0.]\n",
      " [0. 1.]]\n",
      "\n"
     ]
    }
   ],
   "source": [
    "# Formas de criar um ndarray: \n",
    "print(f\"\"\"\n",
    "A partir de uma lista:\\n {np.array([[1,2,3], [4,5,6]])}\n",
    "Utilizando funções pré-definidas:\n",
    "  {np.ones((3,2))}\n",
    "\n",
    "  {np.zeros((3,2))}\n",
    "\n",
    "  {np.random.randn(3,2)}\n",
    "  \n",
    "  {np.eye(2)}\n",
    "\"\"\")"
   ]
  },
  {
   "cell_type": "code",
   "execution_count": 47,
   "metadata": {
    "colab": {
     "base_uri": "https://localhost:8080/"
    },
    "executionInfo": {
     "elapsed": 659,
     "status": "ok",
     "timestamp": 1621540187742,
     "user": {
      "displayName": "Lucas Peres",
      "photoUrl": "https://lh3.googleusercontent.com/a-/AOh14GhAmWsfdcPr7ldFfZ6ZmysZV75wsbmmI87oJl2ZXQ=s64",
      "userId": "11950412691737885275"
     },
     "user_tz": 180
    },
    "id": "-sVE4QBcqaa7",
    "outputId": "623dbf98-f28d-49ab-c609-7535c434d9a0"
   },
   "outputs": [
    {
     "name": "stdout",
     "output_type": "stream",
     "text": [
      "\n",
      "[[2. 2. 2.]\n",
      " [2. 2. 2.]]\n",
      "\n",
      "[[1. 1.]\n",
      " [1. 1.]\n",
      " [1. 1.]]\n",
      "\n",
      "[[7. 4.]\n",
      " [4. 7.]]\n",
      "\n",
      "[[3. 3. 3.]\n",
      " [3. 3. 3.]]\n",
      "\n"
     ]
    }
   ],
   "source": [
    "a = 3*np.eye(2) # matriz identidade\n",
    "b = np.ones((2,3))\n",
    "print(f\"\"\"\n",
    "{b + b}\n",
    "\n",
    "{b.T}\n",
    "\n",
    "{a + 4}\n",
    "\n",
    "{a.dot(b)}\n",
    "\"\"\")"
   ]
  },
  {
   "cell_type": "code",
   "execution_count": 54,
   "metadata": {
    "colab": {
     "base_uri": "https://localhost:8080/"
    },
    "executionInfo": {
     "elapsed": 664,
     "status": "ok",
     "timestamp": 1621540454972,
     "user": {
      "displayName": "Lucas Peres",
      "photoUrl": "https://lh3.googleusercontent.com/a-/AOh14GhAmWsfdcPr7ldFfZ6ZmysZV75wsbmmI87oJl2ZXQ=s64",
      "userId": "11950412691737885275"
     },
     "user_tz": 180
    },
    "id": "H1vhFXY0VH2U",
    "outputId": "7899f541-64b6-474c-d670-acd3b3d5cd8b"
   },
   "outputs": [
    {
     "data": {
      "text/plain": [
       "(array([[-0.14756274, -1.14241009],\n",
       "        [-0.48048549, -0.18230435],\n",
       "        [ 0.49029029,  0.34567032]]), array([3., 3., 3.]))"
      ]
     },
     "execution_count": 54,
     "metadata": {
      "tags": []
     },
     "output_type": "execute_result"
    }
   ],
   "source": [
    "x = np.random.randn(3,2)\n",
    "y = 3*np.ones(3)\n",
    "x,y"
   ]
  },
  {
   "cell_type": "markdown",
   "metadata": {
    "id": "yDGEfOH2CYv7"
   },
   "source": [
    "### Funcionalidades interessantes\n",
    "\n",
    "Uma funcionalidade muito útil e importante é a habilidade de *reorganizar* os dados no numpy: você pode modificar as dimensões de um vetor/matriz, desde que você não mude a quantidade total de itens."
   ]
  },
  {
   "cell_type": "code",
   "execution_count": 62,
   "metadata": {
    "colab": {
     "base_uri": "https://localhost:8080/"
    },
    "executionInfo": {
     "elapsed": 828,
     "status": "ok",
     "timestamp": 1621540581160,
     "user": {
      "displayName": "Lucas Peres",
      "photoUrl": "https://lh3.googleusercontent.com/a-/AOh14GhAmWsfdcPr7ldFfZ6ZmysZV75wsbmmI87oJl2ZXQ=s64",
      "userId": "11950412691737885275"
     },
     "user_tz": 180
    },
    "id": "ovsZQc3oq_80",
    "outputId": "3d89483f-6b8d-407e-a1c4-b5ed215fb4ee"
   },
   "outputs": [
    {
     "data": {
      "text/plain": [
       "array([1., 1., 1., 1., 1., 1., 1., 1., 1., 1., 1., 1.])"
      ]
     },
     "execution_count": 62,
     "metadata": {
      "tags": []
     },
     "output_type": "execute_result"
    }
   ],
   "source": [
    "ones = np.ones(12)\n",
    "ones"
   ]
  },
  {
   "cell_type": "code",
   "execution_count": 63,
   "metadata": {
    "colab": {
     "base_uri": "https://localhost:8080/"
    },
    "executionInfo": {
     "elapsed": 697,
     "status": "ok",
     "timestamp": 1621540630413,
     "user": {
      "displayName": "Lucas Peres",
      "photoUrl": "https://lh3.googleusercontent.com/a-/AOh14GhAmWsfdcPr7ldFfZ6ZmysZV75wsbmmI87oJl2ZXQ=s64",
      "userId": "11950412691737885275"
     },
     "user_tz": 180
    },
    "id": "Qrcxef9IrEoT",
    "outputId": "00594d8d-b48a-4698-9bb7-71aba0c88f80"
   },
   "outputs": [
    {
     "data": {
      "text/plain": [
       "array([[[1., 1., 1.],\n",
       "        [1., 1., 1.]],\n",
       "\n",
       "       [[1., 1., 1.],\n",
       "        [1., 1., 1.]]])"
      ]
     },
     "execution_count": 63,
     "metadata": {
      "tags": []
     },
     "output_type": "execute_result"
    }
   ],
   "source": [
    "ones.reshape(2,2,3)"
   ]
  },
  {
   "cell_type": "code",
   "execution_count": 68,
   "metadata": {
    "colab": {
     "base_uri": "https://localhost:8080/",
     "height": 165
    },
    "executionInfo": {
     "elapsed": 670,
     "status": "error",
     "timestamp": 1621540742699,
     "user": {
      "displayName": "Lucas Peres",
      "photoUrl": "https://lh3.googleusercontent.com/a-/AOh14GhAmWsfdcPr7ldFfZ6ZmysZV75wsbmmI87oJl2ZXQ=s64",
      "userId": "11950412691737885275"
     },
     "user_tz": 180
    },
    "id": "HtQtKuCIC4sI",
    "outputId": "a5e15ca5-1b15-474c-89c7-bb9110e4ddc4"
   },
   "outputs": [
    {
     "ename": "ValueError",
     "evalue": "ignored",
     "output_type": "error",
     "traceback": [
      "\u001b[0;31m---------------------------------------------------------------------------\u001b[0m",
      "\u001b[0;31mValueError\u001b[0m                                Traceback (most recent call last)",
      "\u001b[0;32m<ipython-input-68-3102cb6e5885>\u001b[0m in \u001b[0;36m<module>\u001b[0;34m()\u001b[0m\n\u001b[0;32m----> 1\u001b[0;31m \u001b[0mones\u001b[0m\u001b[0;34m.\u001b[0m\u001b[0mreshape\u001b[0m\u001b[0;34m(\u001b[0m\u001b[0;36m2\u001b[0m\u001b[0;34m,\u001b[0m\u001b[0;36m5\u001b[0m\u001b[0;34m)\u001b[0m \u001b[0;31m# -1 indica que a dimensão será inferida!\u001b[0m\u001b[0;34m\u001b[0m\u001b[0;34m\u001b[0m\u001b[0m\n\u001b[0m",
      "\u001b[0;31mValueError\u001b[0m: cannot reshape array of size 12 into shape (2,5)"
     ]
    }
   ],
   "source": [
    "ones.reshape(2,5) # -1 indica que a dimensão será inferida!"
   ]
  },
  {
   "cell_type": "code",
   "execution_count": 69,
   "metadata": {
    "colab": {
     "base_uri": "https://localhost:8080/"
    },
    "executionInfo": {
     "elapsed": 920,
     "status": "ok",
     "timestamp": 1621540752201,
     "user": {
      "displayName": "Lucas Peres",
      "photoUrl": "https://lh3.googleusercontent.com/a-/AOh14GhAmWsfdcPr7ldFfZ6ZmysZV75wsbmmI87oJl2ZXQ=s64",
      "userId": "11950412691737885275"
     },
     "user_tz": 180
    },
    "id": "OzrbddKpDAVD",
    "outputId": "12465bdc-c7b4-487b-e424-da7780465c20"
   },
   "outputs": [
    {
     "data": {
      "text/plain": [
       "array([[[1., 1.],\n",
       "        [1., 1.]],\n",
       "\n",
       "       [[1., 1.],\n",
       "        [1., 1.]],\n",
       "\n",
       "       [[1., 1.],\n",
       "        [1., 1.]]])"
      ]
     },
     "execution_count": 69,
     "metadata": {
      "tags": []
     },
     "output_type": "execute_result"
    }
   ],
   "source": [
    "ones.reshape(3,2,2)"
   ]
  },
  {
   "cell_type": "markdown",
   "metadata": {
    "id": "DsWHEoymDOVe"
   },
   "source": [
    "O numpy também traz consigo um conjunto de algoritmos e funções de álgebra linear previamente implementados! Diversas funções que aterrorizavam seus pesadelos em álgebra linear ja estão prontas para serem usadas."
   ]
  },
  {
   "cell_type": "code",
   "execution_count": 70,
   "metadata": {
    "colab": {
     "base_uri": "https://localhost:8080/"
    },
    "executionInfo": {
     "elapsed": 743,
     "status": "ok",
     "timestamp": 1621540860168,
     "user": {
      "displayName": "Lucas Peres",
      "photoUrl": "https://lh3.googleusercontent.com/a-/AOh14GhAmWsfdcPr7ldFfZ6ZmysZV75wsbmmI87oJl2ZXQ=s64",
      "userId": "11950412691737885275"
     },
     "user_tz": 180
    },
    "id": "p_shtpV4rQV_",
    "outputId": "b082e67a-e212-4dff-c65f-fdd2a7921b00"
   },
   "outputs": [
    {
     "name": "stdout",
     "output_type": "stream",
     "text": [
      "\n",
      "Norma de um vetor: 3.7416573867739413\n",
      "\n",
      "Inversa de matriz:\n",
      "[[0.5 0.  0. ]\n",
      " [0.  0.5 0. ]\n",
      " [0.  0.  0.5]]\n",
      "\n",
      "Decomposição de Cholesky:\n",
      "[[1.41421356 0.         0.        ]\n",
      " [0.         1.41421356 0.        ]\n",
      " [0.         0.         1.41421356]]\n",
      "\n",
      "Auto-decomposição\n",
      "(array([2., 2., 2.]), array([[1., 0., 0.],\n",
      "       [0., 1., 0.],\n",
      "       [0., 0., 1.]]))\n",
      "\n"
     ]
    }
   ],
   "source": [
    "c = 2 * np.eye(3)\n",
    "print(f\"\"\"\n",
    "Norma de um vetor: {np.linalg.norm(np.array([1,2,3]))}\n",
    "\n",
    "Inversa de matriz:\n",
    "{np.linalg.inv(c)}\n",
    "\n",
    "Decomposição de Cholesky:\n",
    "{np.linalg.cholesky(c)}\n",
    "\n",
    "Auto-decomposição\n",
    "{np.linalg.eig(c)}\n",
    "\"\"\")"
   ]
  },
  {
   "cell_type": "markdown",
   "metadata": {
    "id": "30WKtnwlEMh4"
   },
   "source": [
    "Como se já não tivesse muita coisa, o numpy ainda traz diversos outros métodos para aplicar sobre suas estruturas:\n",
    "- métodos de agregação, como soma, máximo, mínimo, etc;\n",
    "- métricas estatísticas descritivas;\n",
    "- funções matemáticas (logarítmo, exponencial, funções trigonométricas, etc.)."
   ]
  },
  {
   "cell_type": "code",
   "execution_count": 71,
   "metadata": {
    "colab": {
     "base_uri": "https://localhost:8080/"
    },
    "executionInfo": {
     "elapsed": 700,
     "status": "ok",
     "timestamp": 1621540923526,
     "user": {
      "displayName": "Lucas Peres",
      "photoUrl": "https://lh3.googleusercontent.com/a-/AOh14GhAmWsfdcPr7ldFfZ6ZmysZV75wsbmmI87oJl2ZXQ=s64",
      "userId": "11950412691737885275"
     },
     "user_tz": 180
    },
    "id": "4B2rlGB9rhz6",
    "outputId": "2f70fd61-72b8-4e92-9012-b4e2ac6e21f6"
   },
   "outputs": [
    {
     "name": "stdout",
     "output_type": "stream",
     "text": [
      "\n",
      "Média: -0.07364227326182086\n",
      "Variância: 0.708019605305086\n",
      "Variância por coluna: [0.50130402 0.8852213 ]\n",
      "Soma por linha: [-1.40009003 -1.76007618  0.51941715 -0.43927271 -0.5729093  -0.40220497\n",
      " -1.66394454  1.26666153  2.33498369  0.64458989]\n",
      "Soma por coluna: [-1.95120447  0.478359  ]\n",
      "\n"
     ]
    }
   ],
   "source": [
    "X = np.random.randn(10,2)\n",
    "\n",
    "print(f\"\"\"\n",
    "Média: {np.mean(X)}\n",
    "Variância: {np.var(X)}\n",
    "Variância por coluna: {np.var(X, axis=0)}\n",
    "Soma por linha: {np.sum(X, axis=1)}\n",
    "Soma por coluna: {np.sum(X, axis=0)}\n",
    "\"\"\")"
   ]
  },
  {
   "cell_type": "code",
   "execution_count": 75,
   "metadata": {
    "colab": {
     "base_uri": "https://localhost:8080/"
    },
    "executionInfo": {
     "elapsed": 679,
     "status": "ok",
     "timestamp": 1621541013027,
     "user": {
      "displayName": "Lucas Peres",
      "photoUrl": "https://lh3.googleusercontent.com/a-/AOh14GhAmWsfdcPr7ldFfZ6ZmysZV75wsbmmI87oJl2ZXQ=s64",
      "userId": "11950412691737885275"
     },
     "user_tz": 180
    },
    "id": "5_bcAfaWse2N",
    "outputId": "4306f995-0be4-4c70-f46e-4fb89cef2913"
   },
   "outputs": [
    {
     "name": "stdout",
     "output_type": "stream",
     "text": [
      "\n",
      "[0.56016432 0.21241981 0.23132849]\n",
      "Logaritmo: [-0.57952511 -1.54919071 -1.46391656]\n",
      "Exponencial: [1.75096019 1.23666694 1.26027315]\n",
      "Seno: [0.53132541 0.21082594 0.22927083]\n",
      "\n"
     ]
    }
   ],
   "source": [
    "a = np.abs(np.random.randn(3))\n",
    "print(f\"\"\"\n",
    "{a}\n",
    "Logaritmo: {np.log(a)}\n",
    "Exponencial: {np.exp(a)}\n",
    "Seno: {np.sin(a)}\n",
    "\"\"\")"
   ]
  },
  {
   "cell_type": "code",
   "execution_count": 81,
   "metadata": {
    "colab": {
     "base_uri": "https://localhost:8080/"
    },
    "executionInfo": {
     "elapsed": 957,
     "status": "ok",
     "timestamp": 1621541211111,
     "user": {
      "displayName": "Lucas Peres",
      "photoUrl": "https://lh3.googleusercontent.com/a-/AOh14GhAmWsfdcPr7ldFfZ6ZmysZV75wsbmmI87oJl2ZXQ=s64",
      "userId": "11950412691737885275"
     },
     "user_tz": 180
    },
    "id": "kCDz_h3XYPM8",
    "outputId": "91f079d4-22c1-4bc2-d365-ad687da0b13c"
   },
   "outputs": [
    {
     "data": {
      "text/plain": [
       "array([1.05845578, 0.65179723, 0.68018893])"
      ]
     },
     "execution_count": 81,
     "metadata": {
      "tags": []
     },
     "output_type": "execute_result"
    }
   ],
   "source": [
    "from math import sqrt\n",
    "my_func = lambda x: sqrt(x*2)\n",
    "\n",
    "my_func_vectorized = np.vectorize(my_func)\n",
    "\n",
    "my_func_vectorized(a)"
   ]
  },
  {
   "cell_type": "markdown",
   "metadata": {
    "id": "ZizI-KFHE6M4"
   },
   "source": [
    "### Exercícios\n",
    "---\n",
    "Os exercícios abaixo devem ser realizados utilizando **apenas** o Numpy. Está proibido também o uso de *loops* ."
   ]
  },
  {
   "cell_type": "markdown",
   "metadata": {
    "id": "LU6KNP3hFLtf"
   },
   "source": [
    "1 - Encontre, na lista abaixo, os elementos que são diferentes de 0"
   ]
  },
  {
   "cell_type": "code",
   "execution_count": 85,
   "metadata": {
    "colab": {
     "base_uri": "https://localhost:8080/"
    },
    "executionInfo": {
     "elapsed": 680,
     "status": "ok",
     "timestamp": 1621541881462,
     "user": {
      "displayName": "Lucas Peres",
      "photoUrl": "https://lh3.googleusercontent.com/a-/AOh14GhAmWsfdcPr7ldFfZ6ZmysZV75wsbmmI87oJl2ZXQ=s64",
      "userId": "11950412691737885275"
     },
     "user_tz": 180
    },
    "id": "kV0HDOExE8nJ",
    "outputId": "4c5828b7-2f72-49b3-ef43-ca175f9c22ff"
   },
   "outputs": [
    {
     "data": {
      "text/plain": [
       "array([1, 2, 4])"
      ]
     },
     "execution_count": 85,
     "metadata": {
      "tags": []
     },
     "output_type": "execute_result"
    }
   ],
   "source": [
    "numbers = np.array([1,2,0,0,4,0])\n",
    "numbers[numbers != 0]"
   ]
  },
  {
   "cell_type": "markdown",
   "metadata": {
    "id": "DQ1cy_mZHa0l"
   },
   "source": [
    "2 - Crie uma matriz, de n linhas e m colunas, com os números de 1 à n*m"
   ]
  },
  {
   "cell_type": "code",
   "execution_count": 86,
   "metadata": {
    "colab": {
     "base_uri": "https://localhost:8080/"
    },
    "executionInfo": {
     "elapsed": 670,
     "status": "ok",
     "timestamp": 1621542278515,
     "user": {
      "displayName": "Lucas Peres",
      "photoUrl": "https://lh3.googleusercontent.com/a-/AOh14GhAmWsfdcPr7ldFfZ6ZmysZV75wsbmmI87oJl2ZXQ=s64",
      "userId": "11950412691737885275"
     },
     "user_tz": 180
    },
    "id": "0howUUPKH18t",
    "outputId": "a8b48132-b6ee-4e01-9d3b-6ca4f6aa7135"
   },
   "outputs": [
    {
     "data": {
      "text/plain": [
       "array([[ 1,  2,  3,  4],\n",
       "       [ 5,  6,  7,  8],\n",
       "       [ 9, 10, 11, 12],\n",
       "       [13, 14, 15, 16],\n",
       "       [17, 18, 19, 20]])"
      ]
     },
     "execution_count": 86,
     "metadata": {
      "tags": []
     },
     "output_type": "execute_result"
    }
   ],
   "source": [
    "n = 5\n",
    "m = 4\n",
    "\n",
    "np.arange(1,m*n+1).reshape(n,m)"
   ]
  },
  {
   "cell_type": "markdown",
   "metadata": {
    "id": "1muJiiPoGFgY"
   },
   "source": [
    "3 - Existem duas maneiras de criar vetores randômicos com Numpy: `np.random.rand` e `np.random.randn`. Explore, atravez de experimentos, a diferença entre eles.\n",
    "\n",
    "**Dica**: para cada função, gere 10 (ou mais) vetores randômicos e analise suas médias e variâncias/desvio padrão.\n",
    "\n",
    "**OBS**: sim, você pode usar *loops* nesse exercício"
   ]
  },
  {
   "cell_type": "code",
   "execution_count": 95,
   "metadata": {
    "executionInfo": {
     "elapsed": 695,
     "status": "ok",
     "timestamp": 1621542579416,
     "user": {
      "displayName": "Lucas Peres",
      "photoUrl": "https://lh3.googleusercontent.com/a-/AOh14GhAmWsfdcPr7ldFfZ6ZmysZV75wsbmmI87oJl2ZXQ=s64",
      "userId": "11950412691737885275"
     },
     "user_tz": 180
    },
    "id": "ZRei1ZI-I-5P"
   },
   "outputs": [],
   "source": []
  },
  {
   "cell_type": "markdown",
   "metadata": {
    "id": "whQyV2YrH2kL"
   },
   "source": [
    "4 - Existe um processo de *transformação* de dados chamado de *padronização*, o qual segue a seguinte fórmula:\n",
    "\n",
    "$$ x_i' = \\frac{x_i - \\mu}{\\sigma}$$\n",
    "\n",
    "onde:\n",
    "\n",
    "- $x_i$ é um elemento do vetor $X$;\n",
    "- $x_i'$ é o elemento $x_i$ normalizado;\n",
    "- $\\mu$ é a média de $X$;\n",
    "- $\\sigma$ é o desvio padrão de $X$.\n",
    "\n",
    "Gere uma matriz X e realize o processo de *padronização*."
   ]
  },
  {
   "cell_type": "code",
   "execution_count": 96,
   "metadata": {
    "colab": {
     "base_uri": "https://localhost:8080/"
    },
    "executionInfo": {
     "elapsed": 672,
     "status": "ok",
     "timestamp": 1621542830687,
     "user": {
      "displayName": "Lucas Peres",
      "photoUrl": "https://lh3.googleusercontent.com/a-/AOh14GhAmWsfdcPr7ldFfZ6ZmysZV75wsbmmI87oJl2ZXQ=s64",
      "userId": "11950412691737885275"
     },
     "user_tz": 180
    },
    "id": "zjUud_8GG8QM",
    "outputId": "a14d38e9-08b1-47de-965b-30cf20faaf1d"
   },
   "outputs": [
    {
     "data": {
      "text/plain": [
       "array([[0.32551021, 0.46805637],\n",
       "       [0.75525209, 0.21494907],\n",
       "       [0.85701124, 0.70410553],\n",
       "       [0.04096883, 0.7390762 ],\n",
       "       [0.36433694, 0.16220146],\n",
       "       [0.17722853, 0.30258362],\n",
       "       [0.31001363, 0.16323174],\n",
       "       [0.73373517, 0.67904186],\n",
       "       [0.54381069, 0.78957087],\n",
       "       [0.32858553, 0.76317311]])"
      ]
     },
     "execution_count": 96,
     "metadata": {
      "tags": []
     },
     "output_type": "execute_result"
    }
   ],
   "source": [
    "X = np.random.rand(10,2)\n",
    "X"
   ]
  },
  {
   "cell_type": "code",
   "execution_count": 98,
   "metadata": {
    "colab": {
     "base_uri": "https://localhost:8080/"
    },
    "executionInfo": {
     "elapsed": 693,
     "status": "ok",
     "timestamp": 1621542913662,
     "user": {
      "displayName": "Lucas Peres",
      "photoUrl": "https://lh3.googleusercontent.com/a-/AOh14GhAmWsfdcPr7ldFfZ6ZmysZV75wsbmmI87oJl2ZXQ=s64",
      "userId": "11950412691737885275"
     },
     "user_tz": 180
    },
    "id": "ws4GeFOGfQYT",
    "outputId": "b5b615d8-290f-411c-f478-db967887bcea"
   },
   "outputs": [
    {
     "data": {
      "text/plain": [
       "array([0.44364529, 0.49859898])"
      ]
     },
     "execution_count": 98,
     "metadata": {
      "tags": []
     },
     "output_type": "execute_result"
    }
   ],
   "source": [
    "mean = X.mean(axis=0)\n",
    "mean"
   ]
  },
  {
   "cell_type": "code",
   "execution_count": 100,
   "metadata": {
    "colab": {
     "base_uri": "https://localhost:8080/"
    },
    "executionInfo": {
     "elapsed": 683,
     "status": "ok",
     "timestamp": 1621542942426,
     "user": {
      "displayName": "Lucas Peres",
      "photoUrl": "https://lh3.googleusercontent.com/a-/AOh14GhAmWsfdcPr7ldFfZ6ZmysZV75wsbmmI87oJl2ZXQ=s64",
      "userId": "11950412691737885275"
     },
     "user_tz": 180
    },
    "id": "wgnmfUXGfWC-",
    "outputId": "dbeeffb4-908b-4461-c479-9324e0c77f6b"
   },
   "outputs": [
    {
     "data": {
      "text/plain": [
       "array([0.25428794, 0.25154177])"
      ]
     },
     "execution_count": 100,
     "metadata": {
      "tags": []
     },
     "output_type": "execute_result"
    }
   ],
   "source": [
    "std = X.std(axis=0)\n",
    "std"
   ]
  },
  {
   "cell_type": "code",
   "execution_count": 104,
   "metadata": {
    "executionInfo": {
     "elapsed": 600,
     "status": "ok",
     "timestamp": 1621543045017,
     "user": {
      "displayName": "Lucas Peres",
      "photoUrl": "https://lh3.googleusercontent.com/a-/AOh14GhAmWsfdcPr7ldFfZ6ZmysZV75wsbmmI87oJl2ZXQ=s64",
      "userId": "11950412691737885275"
     },
     "user_tz": 180
    },
    "id": "3KbzQasZff-P"
   },
   "outputs": [],
   "source": [
    "new_X = (X - mean)/std"
   ]
  },
  {
   "cell_type": "code",
   "execution_count": 108,
   "metadata": {
    "colab": {
     "base_uri": "https://localhost:8080/"
    },
    "executionInfo": {
     "elapsed": 686,
     "status": "ok",
     "timestamp": 1621543152906,
     "user": {
      "displayName": "Lucas Peres",
      "photoUrl": "https://lh3.googleusercontent.com/a-/AOh14GhAmWsfdcPr7ldFfZ6ZmysZV75wsbmmI87oJl2ZXQ=s64",
      "userId": "11950412691737885275"
     },
     "user_tz": 180
    },
    "id": "ZUYM3GOYf0UD",
    "outputId": "396ec899-7307-4e43-a7e3-ab075c096298"
   },
   "outputs": [
    {
     "data": {
      "text/plain": [
       "(1, 50)"
      ]
     },
     "execution_count": 108,
     "metadata": {
      "tags": []
     },
     "output_type": "execute_result"
    }
   ],
   "source": [
    "np.matrix(range(50)).shape"
   ]
  }
 ],
 "metadata": {
  "colab": {
   "authorship_tag": "ABX9TyPFPOQMJoak8XYjo3Kp/yq/",
   "collapsed_sections": [],
   "name": "Introdução ao Numpy.ipynb",
   "provenance": []
  },
  "kernelspec": {
   "display_name": "Python 3 (ipykernel)",
   "language": "python",
   "name": "python3"
  },
  "language_info": {
   "codemirror_mode": {
    "name": "ipython",
    "version": 3
   },
   "file_extension": ".py",
   "mimetype": "text/x-python",
   "name": "python",
   "nbconvert_exporter": "python",
   "pygments_lexer": "ipython3",
   "version": "3.9.7"
  }
 },
 "nbformat": 4,
 "nbformat_minor": 1
}
