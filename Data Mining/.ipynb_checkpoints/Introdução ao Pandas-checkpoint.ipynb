{
 "cells": [
  {
   "cell_type": "markdown",
   "metadata": {
    "id": "_sbytoesW2RH"
   },
   "source": [
    "# Bibliotecas para manipulação de dados\n",
    "---"
   ]
  },
  {
   "cell_type": "markdown",
   "metadata": {
    "id": "Cje_c3QNW5qR"
   },
   "source": [
    "## Pandas\n",
    "\n",
    "O Pandas é uma biblioteca usada para tratar dados tabulares (csv, xlsx, resultados de consultas SQL, etc.). Ele tem uma API bastante expressiva e possui várias extensões para ajudar no manuseio de diferentes tipos de dados (como dados geo-espaciais). Além disso, ele possui interoperabilidade com algumas bibliotecas te machine learning."
   ]
  },
  {
   "cell_type": "code",
   "execution_count": 1,
   "metadata": {
    "executionInfo": {
     "elapsed": 337,
     "status": "ok",
     "timestamp": 1622577484251,
     "user": {
      "displayName": "Lucas Peres",
      "photoUrl": "https://lh3.googleusercontent.com/a-/AOh14GhAmWsfdcPr7ldFfZ6ZmysZV75wsbmmI87oJl2ZXQ=s64",
      "userId": "11950412691737885275"
     },
     "user_tz": 180
    },
    "id": "RAZPZtcOWyHO"
   },
   "outputs": [],
   "source": [
    "import pandas as pd\n",
    "import numpy as np"
   ]
  },
  {
   "cell_type": "markdown",
   "metadata": {
    "id": "4oVP8sp0nuGE"
   },
   "source": [
    "Existem duas entidades principais no Pandas: Series e Dataframes."
   ]
  },
  {
   "cell_type": "markdown",
   "metadata": {
    "id": "91doAVqfYJ5H"
   },
   "source": [
    "### Series\n",
    "\n",
    "Séries representam conjuntos homogêneos de dados, ou seja, um conjunto onde todos os dados são do mesmo tipo e representam uma mesma coisa. Um exemplo prático de uma série é uma coluna de um banco de dados relacional.\n",
    "\n",
    "Series podem ser criadas a partir de sequências, como Numpy arrays."
   ]
  },
  {
   "cell_type": "code",
   "execution_count": 2,
   "metadata": {
    "colab": {
     "base_uri": "https://localhost:8080/"
    },
    "executionInfo": {
     "elapsed": 358,
     "status": "ok",
     "timestamp": 1622577563156,
     "user": {
      "displayName": "Lucas Peres",
      "photoUrl": "https://lh3.googleusercontent.com/a-/AOh14GhAmWsfdcPr7ldFfZ6ZmysZV75wsbmmI87oJl2ZXQ=s64",
      "userId": "11950412691737885275"
     },
     "user_tz": 180
    },
    "id": "92hacP1SXKhM",
    "outputId": "c2f92e42-7ace-4154-db80-f5cda90611fc"
   },
   "outputs": [
    {
     "data": {
      "text/plain": [
       "0     1.960172\n",
       "1    -0.139014\n",
       "2    -0.859158\n",
       "3    -1.282925\n",
       "4     2.579029\n",
       "        ...   \n",
       "95    0.743292\n",
       "96   -1.185662\n",
       "97    1.470338\n",
       "98    0.114184\n",
       "99   -1.224791\n",
       "Length: 100, dtype: float64"
      ]
     },
     "execution_count": 2,
     "metadata": {
      "tags": []
     },
     "output_type": "execute_result"
    }
   ],
   "source": [
    "s = pd.Series(np.random.randn(100))\n",
    "s"
   ]
  },
  {
   "cell_type": "markdown",
   "metadata": {
    "id": "dNthrNspobs3"
   },
   "source": [
    "A implementação do Pandas, dentre outras coisas, é feita sobre o Numpy, portanto é de se esperar que certas funcionalidades sejam \"herdadas\":"
   ]
  },
  {
   "cell_type": "code",
   "execution_count": 3,
   "metadata": {
    "colab": {
     "base_uri": "https://localhost:8080/"
    },
    "executionInfo": {
     "elapsed": 505,
     "status": "ok",
     "timestamp": 1622577596791,
     "user": {
      "displayName": "Lucas Peres",
      "photoUrl": "https://lh3.googleusercontent.com/a-/AOh14GhAmWsfdcPr7ldFfZ6ZmysZV75wsbmmI87oJl2ZXQ=s64",
      "userId": "11950412691737885275"
     },
     "user_tz": 180
    },
    "id": "6qembx_hXjF9",
    "outputId": "613706a8-730a-475b-b717-63aecae8e265"
   },
   "outputs": [
    {
     "data": {
      "text/plain": [
       "2.579029240335774"
      ]
     },
     "execution_count": 3,
     "metadata": {
      "tags": []
     },
     "output_type": "execute_result"
    }
   ],
   "source": [
    "s[4] # acesso via índice"
   ]
  },
  {
   "cell_type": "code",
   "execution_count": 4,
   "metadata": {
    "colab": {
     "base_uri": "https://localhost:8080/"
    },
    "executionInfo": {
     "elapsed": 427,
     "status": "ok",
     "timestamp": 1622577599469,
     "user": {
      "displayName": "Lucas Peres",
      "photoUrl": "https://lh3.googleusercontent.com/a-/AOh14GhAmWsfdcPr7ldFfZ6ZmysZV75wsbmmI87oJl2ZXQ=s64",
      "userId": "11950412691737885275"
     },
     "user_tz": 180
    },
    "id": "tKnonn2iop4w",
    "outputId": "edb1e3ef-c0dc-4288-b32a-9197b70abd47"
   },
   "outputs": [
    {
     "data": {
      "text/plain": [
       "1   -0.139014\n",
       "2   -0.859158\n",
       "3   -1.282925\n",
       "4    2.579029\n",
       "5    1.403506\n",
       "6    0.124143\n",
       "7   -0.101754\n",
       "8   -0.491892\n",
       "9   -0.211060\n",
       "dtype: float64"
      ]
     },
     "execution_count": 4,
     "metadata": {
      "tags": []
     },
     "output_type": "execute_result"
    }
   ],
   "source": [
    "s[1:10] # acesso via intervalo de índices"
   ]
  },
  {
   "cell_type": "code",
   "execution_count": 5,
   "metadata": {
    "colab": {
     "base_uri": "https://localhost:8080/"
    },
    "executionInfo": {
     "elapsed": 344,
     "status": "ok",
     "timestamp": 1622577605916,
     "user": {
      "displayName": "Lucas Peres",
      "photoUrl": "https://lh3.googleusercontent.com/a-/AOh14GhAmWsfdcPr7ldFfZ6ZmysZV75wsbmmI87oJl2ZXQ=s64",
      "userId": "11950412691737885275"
     },
     "user_tz": 180
    },
    "id": "2cxIUr4vXyvU",
    "outputId": "f9927f8c-eb29-47ef-ab00-d6dab60b0e34"
   },
   "outputs": [
    {
     "data": {
      "text/plain": [
       "0     1.960172\n",
       "4     2.579029\n",
       "5     1.403506\n",
       "6     0.124143\n",
       "10    0.494836\n",
       "12    0.097342\n",
       "13    0.427344\n",
       "14    0.752979\n",
       "16    0.301399\n",
       "19    0.379635\n",
       "23    2.126059\n",
       "25    1.381938\n",
       "27    0.767092\n",
       "29    0.217792\n",
       "31    1.024619\n",
       "32    0.201100\n",
       "35    0.223256\n",
       "36    0.673704\n",
       "37    1.203561\n",
       "38    1.227395\n",
       "39    1.441622\n",
       "41    0.966739\n",
       "43    0.338234\n",
       "44    1.691700\n",
       "46    0.658691\n",
       "47    1.319149\n",
       "50    0.219026\n",
       "57    0.164551\n",
       "58    0.706541\n",
       "59    0.014554\n",
       "63    0.349663\n",
       "65    0.473684\n",
       "67    0.618341\n",
       "68    1.104927\n",
       "74    1.528825\n",
       "75    0.239166\n",
       "77    0.056945\n",
       "79    0.862631\n",
       "83    0.435514\n",
       "87    0.774036\n",
       "88    1.127688\n",
       "90    0.196003\n",
       "91    1.844190\n",
       "92    2.629938\n",
       "95    0.743292\n",
       "97    1.470338\n",
       "98    0.114184\n",
       "dtype: float64"
      ]
     },
     "execution_count": 5,
     "metadata": {
      "tags": []
     },
     "output_type": "execute_result"
    }
   ],
   "source": [
    "s[s > 0] # filtro de elementos"
   ]
  },
  {
   "cell_type": "code",
   "execution_count": 6,
   "metadata": {
    "colab": {
     "base_uri": "https://localhost:8080/"
    },
    "executionInfo": {
     "elapsed": 626,
     "status": "ok",
     "timestamp": 1622577612329,
     "user": {
      "displayName": "Lucas Peres",
      "photoUrl": "https://lh3.googleusercontent.com/a-/AOh14GhAmWsfdcPr7ldFfZ6ZmysZV75wsbmmI87oJl2ZXQ=s64",
      "userId": "11950412691737885275"
     },
     "user_tz": 180
    },
    "id": "ZKeiLIraX0Dy",
    "outputId": "57ac2040-abf0-4d3c-e532-d73f9865e6b5"
   },
   "outputs": [
    {
     "data": {
      "text/plain": [
       "0     3.920343\n",
       "1    -0.278028\n",
       "2    -1.718315\n",
       "3    -2.565851\n",
       "4     5.158058\n",
       "        ...   \n",
       "95    1.486585\n",
       "96   -2.371325\n",
       "97    2.940675\n",
       "98    0.228369\n",
       "99   -2.449583\n",
       "Length: 100, dtype: float64"
      ]
     },
     "execution_count": 6,
     "metadata": {
      "tags": []
     },
     "output_type": "execute_result"
    }
   ],
   "source": [
    "2*s # operadores já implementados"
   ]
  },
  {
   "cell_type": "markdown",
   "metadata": {
    "id": "3gqET5suo2aZ"
   },
   "source": [
    "Outra coisa muito interessante do Pandas é a função **apply**. Essa *primitiva funcional* permite que apliquemos uma função sobre a series, gerando uma nova serie com os valores transformados.\n",
    "\n",
    "**OBS**: isso também é possível no numpy, utilizando a função `np.vectorize`"
   ]
  },
  {
   "cell_type": "code",
   "execution_count": 20,
   "metadata": {
    "colab": {
     "base_uri": "https://localhost:8080/"
    },
    "executionInfo": {
     "elapsed": 334,
     "status": "ok",
     "timestamp": 1622577951597,
     "user": {
      "displayName": "Lucas Peres",
      "photoUrl": "https://lh3.googleusercontent.com/a-/AOh14GhAmWsfdcPr7ldFfZ6ZmysZV75wsbmmI87oJl2ZXQ=s64",
      "userId": "11950412691737885275"
     },
     "user_tz": 180
    },
    "id": "3O0MlHzbKt6-",
    "outputId": "ba982d0e-15c9-4aa4-87fb-4c7f0f8d3a04"
   },
   "outputs": [
    {
     "data": {
      "text/plain": [
       "50"
      ]
     },
     "execution_count": 20,
     "metadata": {
      "tags": []
     },
     "output_type": "execute_result"
    }
   ],
   "source": [
    "#high order function\n",
    "def operate(a,b,op):\n",
    "  return op(a,b)\n",
    "\n",
    "def sum(a,b):\n",
    "  return b.split(\" \")\n",
    "\n",
    "#high order function\n",
    "def generate_func():\n",
    "  return lambda x: x*2\n",
    "\n",
    "\n",
    "operate(10,5,lambda a,b: a*b)"
   ]
  },
  {
   "cell_type": "code",
   "execution_count": 26,
   "metadata": {
    "colab": {
     "base_uri": "https://localhost:8080/",
     "height": 35
    },
    "executionInfo": {
     "elapsed": 355,
     "status": "ok",
     "timestamp": 1622578292354,
     "user": {
      "displayName": "Lucas Peres",
      "photoUrl": "https://lh3.googleusercontent.com/a-/AOh14GhAmWsfdcPr7ldFfZ6ZmysZV75wsbmmI87oJl2ZXQ=s64",
      "userId": "11950412691737885275"
     },
     "user_tz": 180
    },
    "id": "1ro0RiohM4j9",
    "outputId": "8a0a3f61-bfc9-4d62-af46-756b315f8a86"
   },
   "outputs": [
    {
     "data": {
      "application/vnd.google.colaboratory.intrinsic+json": {
       "type": "string"
      },
      "text/plain": [
       "''"
      ]
     },
     "execution_count": 26,
     "metadata": {
      "tags": []
     },
     "output_type": "execute_result"
    }
   ],
   "source": [
    "\"ab\"*0"
   ]
  },
  {
   "cell_type": "code",
   "execution_count": 23,
   "metadata": {
    "colab": {
     "base_uri": "https://localhost:8080/"
    },
    "executionInfo": {
     "elapsed": 339,
     "status": "ok",
     "timestamp": 1622578247660,
     "user": {
      "displayName": "Lucas Peres",
      "photoUrl": "https://lh3.googleusercontent.com/a-/AOh14GhAmWsfdcPr7ldFfZ6ZmysZV75wsbmmI87oJl2ZXQ=s64",
      "userId": "11950412691737885275"
     },
     "user_tz": 180
    },
    "id": "yP-1NrCiX4_u",
    "outputId": "93b74769-c3cb-4beb-afde-8883e78658ff"
   },
   "outputs": [
    {
     "name": "stdout",
     "output_type": "stream",
     "text": [
      "0       aa\n",
      "1         \n",
      "2         \n",
      "3         \n",
      "4     aaaa\n",
      "      ... \n",
      "95        \n",
      "96        \n",
      "97      aa\n",
      "98        \n",
      "99        \n",
      "Length: 100, dtype: object\n"
     ]
    }
   ],
   "source": [
    "s.apply(lambda n: \"aa\"*int(n))"
   ]
  },
  {
   "cell_type": "markdown",
   "metadata": {
    "id": "qF7KU3gMpTRr"
   },
   "source": [
    "Como se já não fosse interessante o suficiente, as series do Pandas possuem *integração com o Matplotlib*. Ou seja, ela já possui funções prontas para gerar gráficos!"
   ]
  },
  {
   "cell_type": "code",
   "execution_count": 29,
   "metadata": {
    "colab": {
     "base_uri": "https://localhost:8080/",
     "height": 262
    },
    "executionInfo": {
     "elapsed": 478,
     "status": "ok",
     "timestamp": 1622578357994,
     "user": {
      "displayName": "Lucas Peres",
      "photoUrl": "https://lh3.googleusercontent.com/a-/AOh14GhAmWsfdcPr7ldFfZ6ZmysZV75wsbmmI87oJl2ZXQ=s64",
      "userId": "11950412691737885275"
     },
     "user_tz": 180
    },
    "id": "7YTg6IdNqElO",
    "outputId": "0c281634-e301-4fec-c779-17b268e19434"
   },
   "outputs": [
    {
     "data": {
      "image/png": "[encoded data removed]",
      "text/plain": [
       "<Figure size 432x288 with 1 Axes>"
      ]
     },
     "metadata": {
      "needs_background": "light",
      "tags": []
     },
     "output_type": "display_data"
    }
   ],
   "source": [
    "_ = s[:10].plot(kind=\"bar\")"
   ]
  },
  {
   "cell_type": "code",
   "execution_count": 30,
   "metadata": {
    "colab": {
     "base_uri": "https://localhost:8080/",
     "height": 265
    },
    "executionInfo": {
     "elapsed": 447,
     "status": "ok",
     "timestamp": 1622578366842,
     "user": {
      "displayName": "Lucas Peres",
      "photoUrl": "https://lh3.googleusercontent.com/a-/AOh14GhAmWsfdcPr7ldFfZ6ZmysZV75wsbmmI87oJl2ZXQ=s64",
      "userId": "11950412691737885275"
     },
     "user_tz": 180
    },
    "id": "GZId7vetqG_Y",
    "outputId": "b6ff2303-af35-4974-9af7-ffa95bd2a027"
   },
   "outputs": [
    {
     "data": {
      "image/png": "[encoded data removed]",
      "text/plain": [
       "<Figure size 432x288 with 1 Axes>"
      ]
     },
     "metadata": {
      "needs_background": "light",
      "tags": []
     },
     "output_type": "display_data"
    }
   ],
   "source": [
    "_ = s.plot(kind=\"box\")"
   ]
  },
  {
   "cell_type": "code",
   "execution_count": 31,
   "metadata": {
    "colab": {
     "base_uri": "https://localhost:8080/",
     "height": 265
    },
    "executionInfo": {
     "elapsed": 441,
     "status": "ok",
     "timestamp": 1622578370409,
     "user": {
      "displayName": "Lucas Peres",
      "photoUrl": "https://lh3.googleusercontent.com/a-/AOh14GhAmWsfdcPr7ldFfZ6ZmysZV75wsbmmI87oJl2ZXQ=s64",
      "userId": "11950412691737885275"
     },
     "user_tz": 180
    },
    "id": "qcn9MjK2Ygj6",
    "outputId": "c497fea2-95bf-498b-99a9-5659762479b3"
   },
   "outputs": [
    {
     "data": {
      "image/png": "[encoded data removed]",
      "text/plain": [
       "<Figure size 432x288 with 1 Axes>"
      ]
     },
     "metadata": {
      "needs_background": "light",
      "tags": []
     },
     "output_type": "display_data"
    }
   ],
   "source": [
    "_ = s.hist()"
   ]
  },
  {
   "cell_type": "markdown",
   "metadata": {
    "id": "tqAWAZTSsoW6"
   },
   "source": [
    "Existe muito mais a se falar sobre as Series, mas vamos logo para os Dataframes."
   ]
  },
  {
   "cell_type": "markdown",
   "metadata": {
    "id": "ijcVD0KCYML5"
   },
   "source": [
    "### Dataframe\n",
    "\n",
    "Se as Series são como colunas de um banco de dados, os Dataframes são como as tabelas! Um Dataframe nada mais é do que um conjunto de séries. Logo, os elementos das séries, em uma mesma posição, representam uma linha do Dataframe.\n",
    "\n",
    "Assim como as Series, Dataframes são criados a partir de sequências. Entretanto, como eles possuem múltiplas Series, precisamos informar múltiplas sequências.\n",
    "\n",
    "Uma das formas de criar um Dataframe é informando um dicionário cujas chaves são os nomes das colunas e os valores, as sequências."
   ]
  },
  {
   "cell_type": "code",
   "execution_count": 34,
   "metadata": {
    "colab": {
     "base_uri": "https://localhost:8080/",
     "height": 172
    },
    "executionInfo": {
     "elapsed": 362,
     "status": "ok",
     "timestamp": 1622578492328,
     "user": {
      "displayName": "Lucas Peres",
      "photoUrl": "https://lh3.googleusercontent.com/a-/AOh14GhAmWsfdcPr7ldFfZ6ZmysZV75wsbmmI87oJl2ZXQ=s64",
      "userId": "11950412691737885275"
     },
     "user_tz": 180
    },
    "id": "ecHkXLpXYHit",
    "outputId": "ac8437ff-d710-4a70-8f2e-a3ca01b14a44"
   },
   "outputs": [
    {
     "data": {
      "text/html": [
       "<div>\n",
       "<style scoped>\n",
       "    .dataframe tbody tr th:only-of-type {\n",
       "        vertical-align: middle;\n",
       "    }\n",
       "\n",
       "    .dataframe tbody tr th {\n",
       "        vertical-align: top;\n",
       "    }\n",
       "\n",
       "    .dataframe thead th {\n",
       "        text-align: right;\n",
       "    }\n",
       "</style>\n",
       "<table border=\"1\" class=\"dataframe\">\n",
       "  <thead>\n",
       "    <tr style=\"text-align: right;\">\n",
       "      <th></th>\n",
       "      <th>fruits</th>\n",
       "      <th>price</th>\n",
       "    </tr>\n",
       "  </thead>\n",
       "  <tbody>\n",
       "    <tr>\n",
       "      <th>0</th>\n",
       "      <td>banana</td>\n",
       "      <td>100</td>\n",
       "    </tr>\n",
       "    <tr>\n",
       "      <th>1</th>\n",
       "      <td>apple</td>\n",
       "      <td>300</td>\n",
       "    </tr>\n",
       "    <tr>\n",
       "      <th>2</th>\n",
       "      <td>passion fruit</td>\n",
       "      <td>250</td>\n",
       "    </tr>\n",
       "    <tr>\n",
       "      <th>3</th>\n",
       "      <td>grape</td>\n",
       "      <td>600</td>\n",
       "    </tr>\n",
       "  </tbody>\n",
       "</table>\n",
       "</div>"
      ],
      "text/plain": [
       "          fruits  price\n",
       "0         banana    100\n",
       "1          apple    300\n",
       "2  passion fruit    250\n",
       "3          grape    600"
      ]
     },
     "execution_count": 34,
     "metadata": {
      "tags": []
     },
     "output_type": "execute_result"
    }
   ],
   "source": [
    "data = {\n",
    "    \"fruits\": [\"banana\", \"apple\", \"passion fruit\", \"grape\"],\n",
    "    \"price\": [100, 300, 250, 600]\n",
    "}\n",
    "\n",
    "df = pd.DataFrame(data)\n",
    "df"
   ]
  },
  {
   "cell_type": "markdown",
   "metadata": {
    "id": "_YDiL4kjwmEq"
   },
   "source": [
    "Também podemos carregar arquivos de texto como Dataframes. O Pandas permite a leitura de diversos formatos de arquivos. Dentre eles, o *comma separated values* (csv).\n",
    "\n",
    "Vamos carregar o csv de [filmes e séries da Netflix](https://www.kaggle.com/shivamb/netflix-shows):"
   ]
  },
  {
   "cell_type": "code",
   "execution_count": 40,
   "metadata": {
    "colab": {
     "base_uri": "https://localhost:8080/"
    },
    "executionInfo": {
     "elapsed": 357,
     "status": "ok",
     "timestamp": 1622578756097,
     "user": {
      "displayName": "Lucas Peres",
      "photoUrl": "https://lh3.googleusercontent.com/a-/AOh14GhAmWsfdcPr7ldFfZ6ZmysZV75wsbmmI87oJl2ZXQ=s64",
      "userId": "11950412691737885275"
     },
     "user_tz": 180
    },
    "id": "odSaFceCOrRS",
    "outputId": "3b8fafe6-0878-46df-ecb4-e855b5bce64d"
   },
   "outputs": [
    {
     "name": "stdout",
     "output_type": "stream",
     "text": [
      "show_id,type,title,director,cast,country,date_added,release_year,rating,duration,listed_in,description\r\n",
      "s1,TV Show,3%,,\"João Miguel, Bianca Comparato, Michel Gomes, Rodolfo Valente, Vaneza Oliveira, Rafael Lozano, Viviane Porto, Mel Fronckowiak, Sergio Mamberti, Zezé Motta, Celso Frateschi\",Brazil,\"August 14, 2020\",2020,TV-MA,4 Seasons,\"International TV Shows, TV Dramas, TV Sci-Fi & Fantasy\",\"In a future where the elite inhabit an island paradise far from the crowded slums, you get one chance to join the 3% saved from squalor.\"\r\n",
      "s2,Movie,7:19,Jorge Michel Grau,\"Demián Bichir, Héctor Bonilla, Oscar Serrano, Azalia Ortiz, Octavio Michel, Carmen Beato\",Mexico,\"December 23, 2016\",2016,TV-MA,93 min,\"Dramas, International Movies\",\"After a devastating earthquake hits Mexico City, trapped survivors from all walks of life wait to be rescued while trying desperately to stay alive.\"\r\n",
      "s3,Movie,23:59,Gilbert Chan,\"Tedd Chan, Stella Chung, Henley Hii, Lawrence Koh, Tommy Kuan, Josh Lai, Mark Lee, Susan Leong, Benjamin Lim\",Singapore,\"December 20, 2018\",2011,R,78 min,\"Horror Movies, International Movies\",\"When an army recruit is found dead, his fellow soldiers are forced to confront a terrifying secret that's haunting their jungle island training camp.\"\r\n",
      "s4,Movie,9,Shane Acker,\"Elijah Wood, John C. Reilly, Jennifer Connelly, Christopher Plummer, Crispin Glover, Martin Landau, Fred Tatasciore, Alan Oppenheimer, Tom Kane\",United States,\"November 16, 2017\",2009,PG-13,80 min,\"Action & Adventure, Independent Movies, Sci-Fi & Fantasy\",\"In a postapocalyptic world, rag-doll robots hide in fear from dangerous machines out to exterminate them, until a brave newcomer joins the group.\"\r\n",
      "s5,Movie,21,Robert Luketic,\"Jim Sturgess, Kevin Spacey, Kate Bosworth, Aaron Yoo, Liza Lapira, Jacob Pitts, Laurence Fishburne, Jack McGee, Josh Gad, Sam Golzari, Helen Carey, Jack Gilpin\",United States,\"January 1, 2020\",2008,PG-13,123 min,Dramas,A brilliant group of students become card-counting experts with the intent of swindling millions out of Las Vegas casinos by playing blackjack.\r\n",
      "s6,TV Show,46,Serdar Akar,\"Erdal Beşikçioğlu, Yasemin Allen, Melis Birkan, Saygın Soysal, Berkan Şal, Metin Belgin, Ayça Eren, Selin Uludoğan, Özay Fecht, Suna Yıldızoğlu\",Turkey,\"July 1, 2017\",2016,TV-MA,1 Season,\"International TV Shows, TV Dramas, TV Mysteries\",\"A genetics professor experiments with a treatment for his comatose sister that blends medical and shamanic cures, but unlocks a shocking side effect.\"\r\n",
      "s7,Movie,122,Yasir Al Yasiri,\"Amina Khalil, Ahmed Dawood, Tarek Lotfy, Ahmed El Fishawy, Mahmoud Hijazi, Jihane Khalil, Asmaa Galal, Tara Emad\",Egypt,\"June 1, 2020\",2019,TV-MA,95 min,\"Horror Movies, International Movies\",\"After an awful accident, a couple admitted to a grisly hospital are separated and must find each other to escape — before death finds them.\"\r\n",
      "s8,Movie,187,Kevin Reynolds,\"Samuel L. Jackson, John Heard, Kelly Rowan, Clifton Collins Jr., Tony Plana\",United States,\"November 1, 2019\",1997,R,119 min,Dramas,\"After one of his high school students attacks him, dedicated teacher Trevor Garfield grows weary of the gang warfare in the New York City school system and moves to California to teach there, thinking it must be a less hostile environment.\"\r\n",
      "s9,Movie,706,Shravan Kumar,\"Divya Dutta, Atul Kulkarni, Mohan Agashe, Anupam Shyam, Raayo S. Bakhirta, Yashvit Sancheti, Greeva Kansara, Archan Trivedi, Rajiv Pathak\",India,\"April 1, 2019\",2019,TV-14,118 min,\"Horror Movies, International Movies\",\"When a doctor goes missing, his psychiatrist wife treats the bizarre medical condition of a psychic patient, who knows much more than he's leading on.\"\r\n"
     ]
    }
   ],
   "source": [
    "! head /content/netflix_titles.csv"
   ]
  },
  {
   "cell_type": "code",
   "execution_count": 56,
   "metadata": {
    "colab": {
     "base_uri": "https://localhost:8080/",
     "height": 340
    },
    "executionInfo": {
     "elapsed": 426,
     "status": "ok",
     "timestamp": 1622579318545,
     "user": {
      "displayName": "Lucas Peres",
      "photoUrl": "https://lh3.googleusercontent.com/a-/AOh14GhAmWsfdcPr7ldFfZ6ZmysZV75wsbmmI87oJl2ZXQ=s64",
      "userId": "11950412691737885275"
     },
     "user_tz": 180
    },
    "id": "0kJsQyarYej9",
    "outputId": "d58efc7d-d27d-4a71-ce3b-b42c8281f1b4"
   },
   "outputs": [
    {
     "data": {
      "text/html": [
       "<div>\n",
       "<style scoped>\n",
       "    .dataframe tbody tr th:only-of-type {\n",
       "        vertical-align: middle;\n",
       "    }\n",
       "\n",
       "    .dataframe tbody tr th {\n",
       "        vertical-align: top;\n",
       "    }\n",
       "\n",
       "    .dataframe thead th {\n",
       "        text-align: right;\n",
       "    }\n",
       "</style>\n",
       "<table border=\"1\" class=\"dataframe\">\n",
       "  <thead>\n",
       "    <tr style=\"text-align: right;\">\n",
       "      <th></th>\n",
       "      <th>show_id</th>\n",
       "      <th>type</th>\n",
       "      <th>title</th>\n",
       "      <th>director</th>\n",
       "      <th>cast</th>\n",
       "      <th>country</th>\n",
       "      <th>date_added</th>\n",
       "      <th>release_year</th>\n",
       "      <th>rating</th>\n",
       "      <th>duration</th>\n",
       "      <th>listed_in</th>\n",
       "      <th>description</th>\n",
       "    </tr>\n",
       "  </thead>\n",
       "  <tbody>\n",
       "    <tr>\n",
       "      <th>0</th>\n",
       "      <td>s1</td>\n",
       "      <td>TV Show</td>\n",
       "      <td>3%</td>\n",
       "      <td>NaN</td>\n",
       "      <td>João Miguel, Bianca Comparato, Michel Gomes, R...</td>\n",
       "      <td>Brazil</td>\n",
       "      <td>August 14, 2020</td>\n",
       "      <td>2020</td>\n",
       "      <td>TV-MA</td>\n",
       "      <td>4 Seasons</td>\n",
       "      <td>International TV Shows, TV Dramas, TV Sci-Fi &amp;...</td>\n",
       "      <td>In a future where the elite inhabit an island ...</td>\n",
       "    </tr>\n",
       "    <tr>\n",
       "      <th>1</th>\n",
       "      <td>s2</td>\n",
       "      <td>Movie</td>\n",
       "      <td>7:19</td>\n",
       "      <td>Jorge Michel Grau</td>\n",
       "      <td>Demián Bichir, Héctor Bonilla, Oscar Serrano, ...</td>\n",
       "      <td>Mexico</td>\n",
       "      <td>December 23, 2016</td>\n",
       "      <td>2016</td>\n",
       "      <td>TV-MA</td>\n",
       "      <td>93 min</td>\n",
       "      <td>Dramas, International Movies</td>\n",
       "      <td>After a devastating earthquake hits Mexico Cit...</td>\n",
       "    </tr>\n",
       "    <tr>\n",
       "      <th>2</th>\n",
       "      <td>s3</td>\n",
       "      <td>Movie</td>\n",
       "      <td>23:59</td>\n",
       "      <td>Gilbert Chan</td>\n",
       "      <td>Tedd Chan, Stella Chung, Henley Hii, Lawrence ...</td>\n",
       "      <td>Singapore</td>\n",
       "      <td>December 20, 2018</td>\n",
       "      <td>2011</td>\n",
       "      <td>R</td>\n",
       "      <td>78 min</td>\n",
       "      <td>Horror Movies, International Movies</td>\n",
       "      <td>When an army recruit is found dead, his fellow...</td>\n",
       "    </tr>\n",
       "    <tr>\n",
       "      <th>3</th>\n",
       "      <td>s4</td>\n",
       "      <td>Movie</td>\n",
       "      <td>9</td>\n",
       "      <td>Shane Acker</td>\n",
       "      <td>Elijah Wood, John C. Reilly, Jennifer Connelly...</td>\n",
       "      <td>United States</td>\n",
       "      <td>November 16, 2017</td>\n",
       "      <td>2009</td>\n",
       "      <td>PG-13</td>\n",
       "      <td>80 min</td>\n",
       "      <td>Action &amp; Adventure, Independent Movies, Sci-Fi...</td>\n",
       "      <td>In a postapocalyptic world, rag-doll robots hi...</td>\n",
       "    </tr>\n",
       "    <tr>\n",
       "      <th>4</th>\n",
       "      <td>s5</td>\n",
       "      <td>Movie</td>\n",
       "      <td>21</td>\n",
       "      <td>Robert Luketic</td>\n",
       "      <td>Jim Sturgess, Kevin Spacey, Kate Bosworth, Aar...</td>\n",
       "      <td>United States</td>\n",
       "      <td>January 1, 2020</td>\n",
       "      <td>2008</td>\n",
       "      <td>PG-13</td>\n",
       "      <td>123 min</td>\n",
       "      <td>Dramas</td>\n",
       "      <td>A brilliant group of students become card-coun...</td>\n",
       "    </tr>\n",
       "  </tbody>\n",
       "</table>\n",
       "</div>"
      ],
      "text/plain": [
       "  show_id  ...                                        description\n",
       "0      s1  ...  In a future where the elite inhabit an island ...\n",
       "1      s2  ...  After a devastating earthquake hits Mexico Cit...\n",
       "2      s3  ...  When an army recruit is found dead, his fellow...\n",
       "3      s4  ...  In a postapocalyptic world, rag-doll robots hi...\n",
       "4      s5  ...  A brilliant group of students become card-coun...\n",
       "\n",
       "[5 rows x 12 columns]"
      ]
     },
     "execution_count": 56,
     "metadata": {
      "tags": []
     },
     "output_type": "execute_result"
    }
   ],
   "source": [
    "df = pd.read_csv(\"/content/netflix_titles.csv\")\n",
    "df.head()"
   ]
  },
  {
   "cell_type": "code",
   "execution_count": 41,
   "metadata": {
    "colab": {
     "base_uri": "https://localhost:8080/"
    },
    "executionInfo": {
     "elapsed": 431,
     "status": "ok",
     "timestamp": 1622578804322,
     "user": {
      "displayName": "Lucas Peres",
      "photoUrl": "https://lh3.googleusercontent.com/a-/AOh14GhAmWsfdcPr7ldFfZ6ZmysZV75wsbmmI87oJl2ZXQ=s64",
      "userId": "11950412691737885275"
     },
     "user_tz": 180
    },
    "id": "4BKiuauwbKcH",
    "outputId": "3a586ce4-9047-4165-f43d-a96de006be5b"
   },
   "outputs": [
    {
     "data": {
      "text/plain": [
       "Index(['show_id', 'type', 'title', 'director', 'cast', 'country', 'date_added',\n",
       "       'release_year', 'rating', 'duration', 'listed_in', 'description'],\n",
       "      dtype='object')"
      ]
     },
     "execution_count": 41,
     "metadata": {
      "tags": []
     },
     "output_type": "execute_result"
    }
   ],
   "source": [
    "df.columns # listando as colunas do Dataframe"
   ]
  },
  {
   "cell_type": "markdown",
   "metadata": {
    "id": "uOtHC8fqVN30"
   },
   "source": [
    "Como um Dataframe é um conjunto de Series e cada coluna tem um nome, podemos acessar diretamente as series de um Dataframe!"
   ]
  },
  {
   "cell_type": "code",
   "execution_count": 42,
   "metadata": {
    "colab": {
     "base_uri": "https://localhost:8080/"
    },
    "executionInfo": {
     "elapsed": 340,
     "status": "ok",
     "timestamp": 1622578816286,
     "user": {
      "displayName": "Lucas Peres",
      "photoUrl": "https://lh3.googleusercontent.com/a-/AOh14GhAmWsfdcPr7ldFfZ6ZmysZV75wsbmmI87oJl2ZXQ=s64",
      "userId": "11950412691737885275"
     },
     "user_tz": 180
    },
    "id": "blMCaSyVbv7-",
    "outputId": "18ba815f-f79b-46ee-8099-bba9bfc4681a"
   },
   "outputs": [
    {
     "data": {
      "text/plain": [
       "0                                            3%\n",
       "1                                          7:19\n",
       "2                                         23:59\n",
       "3                                             9\n",
       "4                                            21\n",
       "                         ...                   \n",
       "7782                                       Zozo\n",
       "7783                                     Zubaan\n",
       "7784                          Zulu Man in Japan\n",
       "7785                      Zumbo's Just Desserts\n",
       "7786    ZZ TOP: THAT LITTLE OL' BAND FROM TEXAS\n",
       "Name: title, Length: 7787, dtype: object"
      ]
     },
     "execution_count": 42,
     "metadata": {
      "tags": []
     },
     "output_type": "execute_result"
    }
   ],
   "source": [
    "df[\"title\"]"
   ]
  },
  {
   "cell_type": "markdown",
   "metadata": {
    "id": "KMQow2uWV1XR"
   },
   "source": [
    "Para acessar o Dataframe pela linha, podemos utilizar o método `iloc`:"
   ]
  },
  {
   "cell_type": "code",
   "execution_count": 43,
   "metadata": {
    "colab": {
     "base_uri": "https://localhost:8080/"
    },
    "executionInfo": {
     "elapsed": 385,
     "status": "ok",
     "timestamp": 1622578986911,
     "user": {
      "displayName": "Lucas Peres",
      "photoUrl": "https://lh3.googleusercontent.com/a-/AOh14GhAmWsfdcPr7ldFfZ6ZmysZV75wsbmmI87oJl2ZXQ=s64",
      "userId": "11950412691737885275"
     },
     "user_tz": 180
    },
    "id": "UhrOzvr8Vdv5",
    "outputId": "f6b8b9df-99c2-4c04-9505-760ee2188b27"
   },
   "outputs": [
    {
     "data": {
      "text/plain": [
       "show_id                                                        s2\n",
       "type                                                        Movie\n",
       "title                                                        7:19\n",
       "director                                        Jorge Michel Grau\n",
       "cast            Demián Bichir, Héctor Bonilla, Oscar Serrano, ...\n",
       "country                                                    Mexico\n",
       "date_added                                      December 23, 2016\n",
       "release_year                                                 2016\n",
       "rating                                                      TV-MA\n",
       "duration                                                   93 min\n",
       "listed_in                            Dramas, International Movies\n",
       "description     After a devastating earthquake hits Mexico Cit...\n",
       "Name: 1, dtype: object"
      ]
     },
     "execution_count": 43,
     "metadata": {
      "tags": []
     },
     "output_type": "execute_result"
    }
   ],
   "source": [
    "df.iloc[1]"
   ]
  },
  {
   "cell_type": "markdown",
   "metadata": {
    "id": "Sfku_dgOV9iY"
   },
   "source": [
    "Assim como foi fácil carregar um Dataframe de um arquivo, salvá-lo também é. O Pandas traz diversas opções para persistir os dados, como csv, xlsx, json, etc."
   ]
  },
  {
   "cell_type": "code",
   "execution_count": 45,
   "metadata": {
    "executionInfo": {
     "elapsed": 353,
     "status": "ok",
     "timestamp": 1622579036401,
     "user": {
      "displayName": "Lucas Peres",
      "photoUrl": "https://lh3.googleusercontent.com/a-/AOh14GhAmWsfdcPr7ldFfZ6ZmysZV75wsbmmI87oJl2ZXQ=s64",
      "userId": "11950412691737885275"
     },
     "user_tz": 180
    },
    "id": "OWRGnhvqaZDO"
   },
   "outputs": [],
   "source": [
    "df.head().to_csv() # o .head() retorna um dataframe com apenas as primeiras linhas"
   ]
  },
  {
   "cell_type": "code",
   "execution_count": 46,
   "metadata": {
    "colab": {
     "base_uri": "https://localhost:8080/",
     "height": 138
    },
    "executionInfo": {
     "elapsed": 596,
     "status": "ok",
     "timestamp": 1622579049385,
     "user": {
      "displayName": "Lucas Peres",
      "photoUrl": "https://lh3.googleusercontent.com/a-/AOh14GhAmWsfdcPr7ldFfZ6ZmysZV75wsbmmI87oJl2ZXQ=s64",
      "userId": "11950412691737885275"
     },
     "user_tz": 180
    },
    "id": "FH37Q34aaaEQ",
    "outputId": "11cd491f-7b4c-4140-aa1f-6f346f719a83"
   },
   "outputs": [
    {
     "data": {
      "application/vnd.google.colaboratory.intrinsic+json": {
       "type": "string"
      },
      "text/plain": [
       "'{\"show_id\":{\"7782\":\"s7783\",\"7783\":\"s7784\",\"7784\":\"s7785\",\"7785\":\"s7786\",\"7786\":\"s7787\"},\"type\":{\"7782\":\"Movie\",\"7783\":\"Movie\",\"7784\":\"Movie\",\"7785\":\"TV Show\",\"7786\":\"Movie\"},\"title\":{\"7782\":\"Zozo\",\"7783\":\"Zubaan\",\"7784\":\"Zulu Man in Japan\",\"7785\":\"Zumbo\\'s Just Desserts\",\"7786\":\"ZZ TOP: THAT LITTLE OL\\' BAND FROM TEXAS\"},\"director\":{\"7782\":\"Josef Fares\",\"7783\":\"Mozez Singh\",\"7784\":null,\"7785\":null,\"7786\":\"Sam Dunn\"},\"cast\":{\"7782\":\"Imad Creidi, Antoinette Turk, Elias Gergi, Carmen Lebbos, Viktor Axelsson, Charbel Iskandar, Yasmine Awad\",\"7783\":\"Vicky Kaushal, Sarah-Jane Dias, Raaghav Chanana, Manish Chaudhary, Meghna Malik, Malkeet Rauni, Anita Shabdish, Chittaranjan Tripathy\",\"7784\":\"Nasty C\",\"7785\":\"Adriano Zumbo, Rachel Khoo\",\"7786\":null},\"country\":{\"7782\":\"Sweden, Czech Republic, United Kingdom, Denmark, Netherlands\",\"7783\":\"India\",\"7784\":null,\"7785\":\"Australia\",\"7786\":\"United Kingdom, Canada, United States\"},\"date_added\":{\"7782\":\"October 19, 2020\",\"7783\":\"March 2, 2019\",\"7784\":\"September 25, 2020\",\"7785\":\"October 31, 2020\",\"7786\":\"March 1, 2020\"},\"release_year\":{\"7782\":2005,\"7783\":2015,\"7784\":2019,\"7785\":2019,\"7786\":2019},\"rating\":{\"7782\":\"TV-MA\",\"7783\":\"TV-14\",\"7784\":\"TV-MA\",\"7785\":\"TV-PG\",\"7786\":\"TV-MA\"},\"duration\":{\"7782\":\"99 min\",\"7783\":\"111 min\",\"7784\":\"44 min\",\"7785\":\"1 Season\",\"7786\":\"90 min\"},\"listed_in\":{\"7782\":\"Dramas, International Movies\",\"7783\":\"Dramas, International Movies, Music & Musicals\",\"7784\":\"Documentaries, International Movies, Music & Musicals\",\"7785\":\"International TV Shows, Reality TV\",\"7786\":\"Documentaries, Music & Musicals\"},\"description\":{\"7782\":\"When Lebanon\\'s Civil War deprives Zozo of his family, he\\'s left with grief and little means as he escapes to Sweden in search of his grandparents.\",\"7783\":\"A scrappy but poor boy worms his way into a tycoon\\'s dysfunctional family, while facing his fear of music and the truth about his past.\",\"7784\":\"In this documentary, South African rapper Nasty C hits the stage and streets of Tokyo, introducing himself to the city\\'s sights, sounds and culture.\",\"7785\":\"Dessert wizard Adriano Zumbo looks for the next \\\\u201cWilly Wonka\\\\u201d in this tense competition that finds skilled amateurs competing for a $100,000 prize.\",\"7786\":\"This documentary delves into the mystique behind the blues-rock trio and explores how the enigmatic band created their iconic look and sound.\"}}'"
      ]
     },
     "execution_count": 46,
     "metadata": {
      "tags": []
     },
     "output_type": "execute_result"
    }
   ],
   "source": [
    "df.tail().to_json() # e o .tail(), com as últimas"
   ]
  },
  {
   "cell_type": "code",
   "execution_count": 51,
   "metadata": {
    "colab": {
     "base_uri": "https://localhost:8080/",
     "height": 138
    },
    "executionInfo": {
     "elapsed": 371,
     "status": "ok",
     "timestamp": 1622579102836,
     "user": {
      "displayName": "Lucas Peres",
      "photoUrl": "https://lh3.googleusercontent.com/a-/AOh14GhAmWsfdcPr7ldFfZ6ZmysZV75wsbmmI87oJl2ZXQ=s64",
      "userId": "11950412691737885275"
     },
     "user_tz": 180
    },
    "id": "PNyY168QP4A0",
    "outputId": "58040c92-ff73-4cf9-844e-6b845a8f9be1"
   },
   "outputs": [
    {
     "data": {
      "application/vnd.google.colaboratory.intrinsic+json": {
       "type": "string"
      },
      "text/plain": [
       "\"\\\\begin{tabular}{llllllllrllll}\\n\\\\toprule\\n{} & show\\\\_id &     type &                                    title &     director &                                               cast &                                            country &          date\\\\_added &  release\\\\_year & rating &  duration &                                          listed\\\\_in &                                        description \\\\\\\\\\n\\\\midrule\\n7782 &   s7783 &    Movie &                                     Zozo &  Josef Fares &  Imad Creidi, Antoinette Turk, Elias Gergi, Car... &  Sweden, Czech Republic, United Kingdom, Denmar... &    October 19, 2020 &          2005 &  TV-MA &    99 min &                       Dramas, International Movies &  When Lebanon's Civil War deprives Zozo of his ... \\\\\\\\\\n7783 &   s7784 &    Movie &                                   Zubaan &  Mozez Singh &  Vicky Kaushal, Sarah-Jane Dias, Raaghav Chanan... &                                              India &       March 2, 2019 &          2015 &  TV-14 &   111 min &     Dramas, International Movies, Music \\\\& Musicals &  A scrappy but poor boy worms his way into a ty... \\\\\\\\\\n7784 &   s7785 &    Movie &                        Zulu Man in Japan &          NaN &                                            Nasty C &                                                NaN &  September 25, 2020 &          2019 &  TV-MA &    44 min &  Documentaries, International Movies, Music \\\\& M... &  In this documentary, South African rapper Nast... \\\\\\\\\\n7785 &   s7786 &  TV Show &                    Zumbo's Just Desserts &          NaN &                         Adriano Zumbo, Rachel Khoo &                                          Australia &    October 31, 2020 &          2019 &  TV-PG &  1 Season &                 International TV Shows, Reality TV &  Dessert wizard Adriano Zumbo looks for the nex... \\\\\\\\\\n7786 &   s7787 &    Movie &  ZZ TOP: THAT LITTLE OL' BAND FROM TEXAS &     Sam Dunn &                                                NaN &              United Kingdom, Canada, United States &       March 1, 2020 &          2019 &  TV-MA &    90 min &                    Documentaries, Music \\\\& Musicals &  This documentary delves into the mystique behi... \\\\\\\\\\n\\\\bottomrule\\n\\\\end{tabular}\\n\""
      ]
     },
     "execution_count": 51,
     "metadata": {
      "tags": []
     },
     "output_type": "execute_result"
    }
   ],
   "source": [
    "df.tail().to_latex()"
   ]
  },
  {
   "cell_type": "markdown",
   "metadata": {
    "id": "mOSaCOQqW-l0"
   },
   "source": [
    "Um Dataframe possui alguns métodos para auxiliar na descrição de seus dados. São eles:\n",
    "\n",
    "- `.info()`, que apresenta especificações técnicas dos dados, como:\n",
    "  - quantidade de dados por coluna;\n",
    "  - tipo de dados;\n",
    "  - memória usada.\n",
    "\n",
    "- `.describe()`, que tem um viés mais descritivo, apresentando, sobre os atributos numéricos, algumas métricas estatísticas:\n",
    "  - média;\n",
    "  - desvio padrão;\n",
    "  - quantis."
   ]
  },
  {
   "cell_type": "code",
   "execution_count": 52,
   "metadata": {
    "colab": {
     "base_uri": "https://localhost:8080/"
    },
    "executionInfo": {
     "elapsed": 425,
     "status": "ok",
     "timestamp": 1622579145746,
     "user": {
      "displayName": "Lucas Peres",
      "photoUrl": "https://lh3.googleusercontent.com/a-/AOh14GhAmWsfdcPr7ldFfZ6ZmysZV75wsbmmI87oJl2ZXQ=s64",
      "userId": "11950412691737885275"
     },
     "user_tz": 180
    },
    "id": "Hy7qX9vgaqkW",
    "outputId": "f0c77eb9-0ada-4948-c0ac-a1ef8c43e3fd"
   },
   "outputs": [
    {
     "name": "stdout",
     "output_type": "stream",
     "text": [
      "<class 'pandas.core.frame.DataFrame'>\n",
      "RangeIndex: 7787 entries, 0 to 7786\n",
      "Data columns (total 12 columns):\n",
      " #   Column        Non-Null Count  Dtype \n",
      "---  ------        --------------  ----- \n",
      " 0   show_id       7787 non-null   object\n",
      " 1   type          7787 non-null   object\n",
      " 2   title         7787 non-null   object\n",
      " 3   director      5398 non-null   object\n",
      " 4   cast          7069 non-null   object\n",
      " 5   country       7280 non-null   object\n",
      " 6   date_added    7777 non-null   object\n",
      " 7   release_year  7787 non-null   int64 \n",
      " 8   rating        7780 non-null   object\n",
      " 9   duration      7787 non-null   object\n",
      " 10  listed_in     7787 non-null   object\n",
      " 11  description   7787 non-null   object\n",
      "dtypes: int64(1), object(11)\n",
      "memory usage: 730.2+ KB\n"
     ]
    }
   ],
   "source": [
    "df.info()"
   ]
  },
  {
   "cell_type": "code",
   "execution_count": 53,
   "metadata": {
    "colab": {
     "base_uri": "https://localhost:8080/",
     "height": 295
    },
    "executionInfo": {
     "elapsed": 519,
     "status": "ok",
     "timestamp": 1622579181585,
     "user": {
      "displayName": "Lucas Peres",
      "photoUrl": "https://lh3.googleusercontent.com/a-/AOh14GhAmWsfdcPr7ldFfZ6ZmysZV75wsbmmI87oJl2ZXQ=s64",
      "userId": "11950412691737885275"
     },
     "user_tz": 180
    },
    "id": "GgxaMpdba1EI",
    "outputId": "31790104-a5b4-455d-afa1-ed4400a72216"
   },
   "outputs": [
    {
     "data": {
      "text/html": [
       "<div>\n",
       "<style scoped>\n",
       "    .dataframe tbody tr th:only-of-type {\n",
       "        vertical-align: middle;\n",
       "    }\n",
       "\n",
       "    .dataframe tbody tr th {\n",
       "        vertical-align: top;\n",
       "    }\n",
       "\n",
       "    .dataframe thead th {\n",
       "        text-align: right;\n",
       "    }\n",
       "</style>\n",
       "<table border=\"1\" class=\"dataframe\">\n",
       "  <thead>\n",
       "    <tr style=\"text-align: right;\">\n",
       "      <th></th>\n",
       "      <th>release_year</th>\n",
       "    </tr>\n",
       "  </thead>\n",
       "  <tbody>\n",
       "    <tr>\n",
       "      <th>count</th>\n",
       "      <td>7787.000000</td>\n",
       "    </tr>\n",
       "    <tr>\n",
       "      <th>mean</th>\n",
       "      <td>2013.932580</td>\n",
       "    </tr>\n",
       "    <tr>\n",
       "      <th>std</th>\n",
       "      <td>8.757395</td>\n",
       "    </tr>\n",
       "    <tr>\n",
       "      <th>min</th>\n",
       "      <td>1925.000000</td>\n",
       "    </tr>\n",
       "    <tr>\n",
       "      <th>25%</th>\n",
       "      <td>2013.000000</td>\n",
       "    </tr>\n",
       "    <tr>\n",
       "      <th>50%</th>\n",
       "      <td>2017.000000</td>\n",
       "    </tr>\n",
       "    <tr>\n",
       "      <th>75%</th>\n",
       "      <td>2018.000000</td>\n",
       "    </tr>\n",
       "    <tr>\n",
       "      <th>max</th>\n",
       "      <td>2021.000000</td>\n",
       "    </tr>\n",
       "  </tbody>\n",
       "</table>\n",
       "</div>"
      ],
      "text/plain": [
       "       release_year\n",
       "count   7787.000000\n",
       "mean    2013.932580\n",
       "std        8.757395\n",
       "min     1925.000000\n",
       "25%     2013.000000\n",
       "50%     2017.000000\n",
       "75%     2018.000000\n",
       "max     2021.000000"
      ]
     },
     "execution_count": 53,
     "metadata": {
      "tags": []
     },
     "output_type": "execute_result"
    }
   ],
   "source": [
    "df.describe()"
   ]
  },
  {
   "cell_type": "markdown",
   "metadata": {
    "id": "s8gXG-PEXmjo"
   },
   "source": [
    "#### Manipulando dados em um Dataframe\n",
    "\n",
    "Existem diversas formas de manipular um Dataframe. Vamos mostrar algumas delas a seguir.\n",
    "\n",
    "Primeiramente, uma das maneiras mais simples de lidar com *missing data* é, simplesmente, remover os dados. Para isso, podemos simplesmente usar o método `.dropna()`, que descarta todas as linhas com dados faltantes."
   ]
  },
  {
   "cell_type": "code",
   "execution_count": 61,
   "metadata": {
    "colab": {
     "base_uri": "https://localhost:8080/",
     "height": 357
    },
    "executionInfo": {
     "elapsed": 358,
     "status": "ok",
     "timestamp": 1622579400930,
     "user": {
      "displayName": "Lucas Peres",
      "photoUrl": "https://lh3.googleusercontent.com/a-/AOh14GhAmWsfdcPr7ldFfZ6ZmysZV75wsbmmI87oJl2ZXQ=s64",
      "userId": "11950412691737885275"
     },
     "user_tz": 180
    },
    "id": "TRIooYNma2LO",
    "outputId": "a6aab9f2-1638-42ed-c59b-ae9ee9f6ad90"
   },
   "outputs": [
    {
     "data": {
      "text/html": [
       "<div>\n",
       "<style scoped>\n",
       "    .dataframe tbody tr th:only-of-type {\n",
       "        vertical-align: middle;\n",
       "    }\n",
       "\n",
       "    .dataframe tbody tr th {\n",
       "        vertical-align: top;\n",
       "    }\n",
       "\n",
       "    .dataframe thead th {\n",
       "        text-align: right;\n",
       "    }\n",
       "</style>\n",
       "<table border=\"1\" class=\"dataframe\">\n",
       "  <thead>\n",
       "    <tr style=\"text-align: right;\">\n",
       "      <th></th>\n",
       "      <th>show_id</th>\n",
       "      <th>type</th>\n",
       "      <th>title</th>\n",
       "      <th>director</th>\n",
       "      <th>cast</th>\n",
       "      <th>country</th>\n",
       "      <th>date_added</th>\n",
       "      <th>release_year</th>\n",
       "      <th>rating</th>\n",
       "      <th>duration</th>\n",
       "      <th>listed_in</th>\n",
       "      <th>description</th>\n",
       "    </tr>\n",
       "  </thead>\n",
       "  <tbody>\n",
       "    <tr>\n",
       "      <th>1</th>\n",
       "      <td>s2</td>\n",
       "      <td>Movie</td>\n",
       "      <td>7:19</td>\n",
       "      <td>Jorge Michel Grau</td>\n",
       "      <td>Demián Bichir, Héctor Bonilla, Oscar Serrano, ...</td>\n",
       "      <td>Mexico</td>\n",
       "      <td>December 23, 2016</td>\n",
       "      <td>2016</td>\n",
       "      <td>TV-MA</td>\n",
       "      <td>93 min</td>\n",
       "      <td>Dramas, International Movies</td>\n",
       "      <td>After a devastating earthquake hits Mexico Cit...</td>\n",
       "    </tr>\n",
       "    <tr>\n",
       "      <th>2</th>\n",
       "      <td>s3</td>\n",
       "      <td>Movie</td>\n",
       "      <td>23:59</td>\n",
       "      <td>Gilbert Chan</td>\n",
       "      <td>Tedd Chan, Stella Chung, Henley Hii, Lawrence ...</td>\n",
       "      <td>Singapore</td>\n",
       "      <td>December 20, 2018</td>\n",
       "      <td>2011</td>\n",
       "      <td>R</td>\n",
       "      <td>78 min</td>\n",
       "      <td>Horror Movies, International Movies</td>\n",
       "      <td>When an army recruit is found dead, his fellow...</td>\n",
       "    </tr>\n",
       "    <tr>\n",
       "      <th>3</th>\n",
       "      <td>s4</td>\n",
       "      <td>Movie</td>\n",
       "      <td>9</td>\n",
       "      <td>Shane Acker</td>\n",
       "      <td>Elijah Wood, John C. Reilly, Jennifer Connelly...</td>\n",
       "      <td>United States</td>\n",
       "      <td>November 16, 2017</td>\n",
       "      <td>2009</td>\n",
       "      <td>PG-13</td>\n",
       "      <td>80 min</td>\n",
       "      <td>Action &amp; Adventure, Independent Movies, Sci-Fi...</td>\n",
       "      <td>In a postapocalyptic world, rag-doll robots hi...</td>\n",
       "    </tr>\n",
       "    <tr>\n",
       "      <th>4</th>\n",
       "      <td>s5</td>\n",
       "      <td>Movie</td>\n",
       "      <td>21</td>\n",
       "      <td>Robert Luketic</td>\n",
       "      <td>Jim Sturgess, Kevin Spacey, Kate Bosworth, Aar...</td>\n",
       "      <td>United States</td>\n",
       "      <td>January 1, 2020</td>\n",
       "      <td>2008</td>\n",
       "      <td>PG-13</td>\n",
       "      <td>123 min</td>\n",
       "      <td>Dramas</td>\n",
       "      <td>A brilliant group of students become card-coun...</td>\n",
       "    </tr>\n",
       "    <tr>\n",
       "      <th>5</th>\n",
       "      <td>s6</td>\n",
       "      <td>TV Show</td>\n",
       "      <td>46</td>\n",
       "      <td>Serdar Akar</td>\n",
       "      <td>Erdal Beşikçioğlu, Yasemin Allen, Melis Birkan...</td>\n",
       "      <td>Turkey</td>\n",
       "      <td>July 1, 2017</td>\n",
       "      <td>2016</td>\n",
       "      <td>TV-MA</td>\n",
       "      <td>1 Season</td>\n",
       "      <td>International TV Shows, TV Dramas, TV Mysteries</td>\n",
       "      <td>A genetics professor experiments with a treatm...</td>\n",
       "    </tr>\n",
       "  </tbody>\n",
       "</table>\n",
       "</div>"
      ],
      "text/plain": [
       "  show_id  ...                                        description\n",
       "1      s2  ...  After a devastating earthquake hits Mexico Cit...\n",
       "2      s3  ...  When an army recruit is found dead, his fellow...\n",
       "3      s4  ...  In a postapocalyptic world, rag-doll robots hi...\n",
       "4      s5  ...  A brilliant group of students become card-coun...\n",
       "5      s6  ...  A genetics professor experiments with a treatm...\n",
       "\n",
       "[5 rows x 12 columns]"
      ]
     },
     "execution_count": 61,
     "metadata": {
      "tags": []
     },
     "output_type": "execute_result"
    }
   ],
   "source": [
    "df.dropna(thresh=12).head()"
   ]
  },
  {
   "cell_type": "code",
   "execution_count": 55,
   "metadata": {
    "colab": {
     "base_uri": "https://localhost:8080/"
    },
    "executionInfo": {
     "elapsed": 368,
     "status": "ok",
     "timestamp": 1622579273140,
     "user": {
      "displayName": "Lucas Peres",
      "photoUrl": "https://lh3.googleusercontent.com/a-/AOh14GhAmWsfdcPr7ldFfZ6ZmysZV75wsbmmI87oJl2ZXQ=s64",
      "userId": "11950412691737885275"
     },
     "user_tz": 180
    },
    "id": "oiabMETXQq78",
    "outputId": "3bce9033-e8f4-4d5b-c7d4-31d0338107b5"
   },
   "outputs": [
    {
     "name": "stdout",
     "output_type": "stream",
     "text": [
      "Help on method dropna in module pandas.core.frame:\n",
      "\n",
      "dropna(axis=0, how='any', thresh=None, subset=None, inplace=False) method of pandas.core.frame.DataFrame instance\n",
      "    Remove missing values.\n",
      "    \n",
      "    See the :ref:`User Guide <missing_data>` for more on which values are\n",
      "    considered missing, and how to work with missing data.\n",
      "    \n",
      "    Parameters\n",
      "    ----------\n",
      "    axis : {0 or 'index', 1 or 'columns'}, default 0\n",
      "        Determine if rows or columns which contain missing values are\n",
      "        removed.\n",
      "    \n",
      "        * 0, or 'index' : Drop rows which contain missing values.\n",
      "        * 1, or 'columns' : Drop columns which contain missing value.\n",
      "    \n",
      "        .. versionchanged:: 1.0.0\n",
      "    \n",
      "           Pass tuple or list to drop on multiple axes.\n",
      "           Only a single axis is allowed.\n",
      "    \n",
      "    how : {'any', 'all'}, default 'any'\n",
      "        Determine if row or column is removed from DataFrame, when we have\n",
      "        at least one NA or all NA.\n",
      "    \n",
      "        * 'any' : If any NA values are present, drop that row or column.\n",
      "        * 'all' : If all values are NA, drop that row or column.\n",
      "    \n",
      "    thresh : int, optional\n",
      "        Require that many non-NA values.\n",
      "    subset : array-like, optional\n",
      "        Labels along other axis to consider, e.g. if you are dropping rows\n",
      "        these would be a list of columns to include.\n",
      "    inplace : bool, default False\n",
      "        If True, do operation inplace and return None.\n",
      "    \n",
      "    Returns\n",
      "    -------\n",
      "    DataFrame\n",
      "        DataFrame with NA entries dropped from it.\n",
      "    \n",
      "    See Also\n",
      "    --------\n",
      "    DataFrame.isna: Indicate missing values.\n",
      "    DataFrame.notna : Indicate existing (non-missing) values.\n",
      "    DataFrame.fillna : Replace missing values.\n",
      "    Series.dropna : Drop missing values.\n",
      "    Index.dropna : Drop missing indices.\n",
      "    \n",
      "    Examples\n",
      "    --------\n",
      "    >>> df = pd.DataFrame({\"name\": ['Alfred', 'Batman', 'Catwoman'],\n",
      "    ...                    \"toy\": [np.nan, 'Batmobile', 'Bullwhip'],\n",
      "    ...                    \"born\": [pd.NaT, pd.Timestamp(\"1940-04-25\"),\n",
      "    ...                             pd.NaT]})\n",
      "    >>> df\n",
      "           name        toy       born\n",
      "    0    Alfred        NaN        NaT\n",
      "    1    Batman  Batmobile 1940-04-25\n",
      "    2  Catwoman   Bullwhip        NaT\n",
      "    \n",
      "    Drop the rows where at least one element is missing.\n",
      "    \n",
      "    >>> df.dropna()\n",
      "         name        toy       born\n",
      "    1  Batman  Batmobile 1940-04-25\n",
      "    \n",
      "    Drop the columns where at least one element is missing.\n",
      "    \n",
      "    >>> df.dropna(axis='columns')\n",
      "           name\n",
      "    0    Alfred\n",
      "    1    Batman\n",
      "    2  Catwoman\n",
      "    \n",
      "    Drop the rows where all elements are missing.\n",
      "    \n",
      "    >>> df.dropna(how='all')\n",
      "           name        toy       born\n",
      "    0    Alfred        NaN        NaT\n",
      "    1    Batman  Batmobile 1940-04-25\n",
      "    2  Catwoman   Bullwhip        NaT\n",
      "    \n",
      "    Keep only the rows with at least 2 non-NA values.\n",
      "    \n",
      "    >>> df.dropna(thresh=2)\n",
      "           name        toy       born\n",
      "    1    Batman  Batmobile 1940-04-25\n",
      "    2  Catwoman   Bullwhip        NaT\n",
      "    \n",
      "    Define in which columns to look for missing values.\n",
      "    \n",
      "    >>> df.dropna(subset=['name', 'born'])\n",
      "           name        toy       born\n",
      "    1    Batman  Batmobile 1940-04-25\n",
      "    \n",
      "    Keep the DataFrame with valid entries in the same variable.\n",
      "    \n",
      "    >>> df.dropna(inplace=True)\n",
      "    >>> df\n",
      "         name        toy       born\n",
      "    1  Batman  Batmobile 1940-04-25\n",
      "\n"
     ]
    }
   ],
   "source": [
    "help(df.dropna)"
   ]
  },
  {
   "cell_type": "markdown",
   "metadata": {
    "id": "0Y6ViE3ZYWCr"
   },
   "source": [
    "**OBS**: por padrão, o método acima descarta uma linha se ela tiver pelo menos um dado faltante. O método permite ser mais específico, permitindo remover se o dado faltante for em uma coluna específica, ou se tiver muitas colunas em branco, dentre outras opções. No Pandas, a documentação é sua melhor amiga!"
   ]
  },
  {
   "cell_type": "markdown",
   "metadata": {
    "id": "ZIWqRJ8iYsHa"
   },
   "source": [
    "Assim como nas Series (e no Numpy), podemos fazer seleções condicionais no Dataframe, filtrando por uma ou mais propriedades."
   ]
  },
  {
   "cell_type": "code",
   "execution_count": 65,
   "metadata": {
    "colab": {
     "base_uri": "https://localhost:8080/",
     "height": 460
    },
    "executionInfo": {
     "elapsed": 467,
     "status": "ok",
     "timestamp": 1622579475546,
     "user": {
      "displayName": "Lucas Peres",
      "photoUrl": "https://lh3.googleusercontent.com/a-/AOh14GhAmWsfdcPr7ldFfZ6ZmysZV75wsbmmI87oJl2ZXQ=s64",
      "userId": "11950412691737885275"
     },
     "user_tz": 180
    },
    "id": "uA3_XzEpb8Tb",
    "outputId": "a2a0b481-e8b7-4ca8-8799-1bce140ae3d0"
   },
   "outputs": [
    {
     "data": {
      "text/html": [
       "<div>\n",
       "<style scoped>\n",
       "    .dataframe tbody tr th:only-of-type {\n",
       "        vertical-align: middle;\n",
       "    }\n",
       "\n",
       "    .dataframe tbody tr th {\n",
       "        vertical-align: top;\n",
       "    }\n",
       "\n",
       "    .dataframe thead th {\n",
       "        text-align: right;\n",
       "    }\n",
       "</style>\n",
       "<table border=\"1\" class=\"dataframe\">\n",
       "  <thead>\n",
       "    <tr style=\"text-align: right;\">\n",
       "      <th></th>\n",
       "      <th>show_id</th>\n",
       "      <th>type</th>\n",
       "      <th>title</th>\n",
       "      <th>director</th>\n",
       "      <th>cast</th>\n",
       "      <th>country</th>\n",
       "      <th>date_added</th>\n",
       "      <th>release_year</th>\n",
       "      <th>rating</th>\n",
       "      <th>duration</th>\n",
       "      <th>listed_in</th>\n",
       "      <th>description</th>\n",
       "    </tr>\n",
       "  </thead>\n",
       "  <tbody>\n",
       "    <tr>\n",
       "      <th>0</th>\n",
       "      <td>s1</td>\n",
       "      <td>TV Show</td>\n",
       "      <td>3%</td>\n",
       "      <td>NaN</td>\n",
       "      <td>João Miguel, Bianca Comparato, Michel Gomes, R...</td>\n",
       "      <td>Brazil</td>\n",
       "      <td>August 14, 2020</td>\n",
       "      <td>2020</td>\n",
       "      <td>TV-MA</td>\n",
       "      <td>4 Seasons</td>\n",
       "      <td>International TV Shows, TV Dramas, TV Sci-Fi &amp;...</td>\n",
       "      <td>In a future where the elite inhabit an island ...</td>\n",
       "    </tr>\n",
       "    <tr>\n",
       "      <th>218</th>\n",
       "      <td>s219</td>\n",
       "      <td>TV Show</td>\n",
       "      <td>A Queen Is Born</td>\n",
       "      <td>Carla Barros</td>\n",
       "      <td>Gloria Groove, Alexia Twister</td>\n",
       "      <td>Brazil</td>\n",
       "      <td>November 11, 2020</td>\n",
       "      <td>2020</td>\n",
       "      <td>TV-14</td>\n",
       "      <td>1 Season</td>\n",
       "      <td>International TV Shows, Reality TV</td>\n",
       "      <td>Gloria Groove and Alexia Twister make drag dre...</td>\n",
       "    </tr>\n",
       "    <tr>\n",
       "      <th>320</th>\n",
       "      <td>s321</td>\n",
       "      <td>Movie</td>\n",
       "      <td>Afonso Padilha: Classless</td>\n",
       "      <td>Junior Carelli, Rudge Campos</td>\n",
       "      <td>Afonso Padilha</td>\n",
       "      <td>Brazil</td>\n",
       "      <td>September 3, 2020</td>\n",
       "      <td>2020</td>\n",
       "      <td>TV-MA</td>\n",
       "      <td>63 min</td>\n",
       "      <td>Stand-Up Comedy</td>\n",
       "      <td>Brazilian comedian Afonso Padilha dives into h...</td>\n",
       "    </tr>\n",
       "    <tr>\n",
       "      <th>531</th>\n",
       "      <td>s532</td>\n",
       "      <td>TV Show</td>\n",
       "      <td>Anitta: Made In Honório</td>\n",
       "      <td>Andrucha Waddington, Pedro Waddington</td>\n",
       "      <td>Anitta</td>\n",
       "      <td>Brazil</td>\n",
       "      <td>December 16, 2020</td>\n",
       "      <td>2020</td>\n",
       "      <td>TV-MA</td>\n",
       "      <td>1 Season</td>\n",
       "      <td>Docuseries, International TV Shows</td>\n",
       "      <td>In this intimate documentary, Brazilian pop qu...</td>\n",
       "    </tr>\n",
       "    <tr>\n",
       "      <th>1626</th>\n",
       "      <td>s1627</td>\n",
       "      <td>TV Show</td>\n",
       "      <td>Dating Around: Brazil</td>\n",
       "      <td>Cassia Dian</td>\n",
       "      <td>NaN</td>\n",
       "      <td>Brazil</td>\n",
       "      <td>July 10, 2020</td>\n",
       "      <td>2020</td>\n",
       "      <td>TV-14</td>\n",
       "      <td>1 Season</td>\n",
       "      <td>International TV Shows, Reality TV, Romantic T...</td>\n",
       "      <td>In this reality show, six singles meet five di...</td>\n",
       "    </tr>\n",
       "  </tbody>\n",
       "</table>\n",
       "</div>"
      ],
      "text/plain": [
       "     show_id  ...                                        description\n",
       "0         s1  ...  In a future where the elite inhabit an island ...\n",
       "218     s219  ...  Gloria Groove and Alexia Twister make drag dre...\n",
       "320     s321  ...  Brazilian comedian Afonso Padilha dives into h...\n",
       "531     s532  ...  In this intimate documentary, Brazilian pop qu...\n",
       "1626   s1627  ...  In this reality show, six singles meet five di...\n",
       "\n",
       "[5 rows x 12 columns]"
      ]
     },
     "execution_count": 65,
     "metadata": {
      "tags": []
     },
     "output_type": "execute_result"
    }
   ],
   "source": [
    "df[(df.release_year == 2020) & (df.country == \"Brazil\")].head()"
   ]
  },
  {
   "cell_type": "markdown",
   "metadata": {
    "id": "K2tRM0YyY3aQ"
   },
   "source": [
    "Lembra que as Series tem um método `apply`, que permite gerar uma nova Serie, aplicando uma função sobre todos os dados? Então... isso é muito útil quando desejamos alterar OU criar novas colunas! Para isso, basta fazer como no exemplo abaixo:"
   ]
  },
  {
   "cell_type": "code",
   "execution_count": 67,
   "metadata": {
    "colab": {
     "base_uri": "https://localhost:8080/",
     "height": 408
    },
    "executionInfo": {
     "elapsed": 336,
     "status": "ok",
     "timestamp": 1622579564424,
     "user": {
      "displayName": "Lucas Peres",
      "photoUrl": "https://lh3.googleusercontent.com/a-/AOh14GhAmWsfdcPr7ldFfZ6ZmysZV75wsbmmI87oJl2ZXQ=s64",
      "userId": "11950412691737885275"
     },
     "user_tz": 180
    },
    "id": "8IB427NQclL-",
    "outputId": "ecdb0424-a0ce-4c4d-80db-98527ed43760"
   },
   "outputs": [
    {
     "data": {
      "text/html": [
       "<div>\n",
       "<style scoped>\n",
       "    .dataframe tbody tr th:only-of-type {\n",
       "        vertical-align: middle;\n",
       "    }\n",
       "\n",
       "    .dataframe tbody tr th {\n",
       "        vertical-align: top;\n",
       "    }\n",
       "\n",
       "    .dataframe thead th {\n",
       "        text-align: right;\n",
       "    }\n",
       "</style>\n",
       "<table border=\"1\" class=\"dataframe\">\n",
       "  <thead>\n",
       "    <tr style=\"text-align: right;\">\n",
       "      <th></th>\n",
       "      <th>show_id</th>\n",
       "      <th>type</th>\n",
       "      <th>title</th>\n",
       "      <th>director</th>\n",
       "      <th>cast</th>\n",
       "      <th>country</th>\n",
       "      <th>date_added</th>\n",
       "      <th>release_year</th>\n",
       "      <th>rating</th>\n",
       "      <th>duration</th>\n",
       "      <th>listed_in</th>\n",
       "      <th>description</th>\n",
       "      <th>first_category</th>\n",
       "    </tr>\n",
       "  </thead>\n",
       "  <tbody>\n",
       "    <tr>\n",
       "      <th>0</th>\n",
       "      <td>s1</td>\n",
       "      <td>TV Show</td>\n",
       "      <td>3%</td>\n",
       "      <td>NaN</td>\n",
       "      <td>João Miguel, Bianca Comparato, Michel Gomes, R...</td>\n",
       "      <td>Brazil</td>\n",
       "      <td>August 14, 2020</td>\n",
       "      <td>2020</td>\n",
       "      <td>TV-MA</td>\n",
       "      <td>4 Seasons</td>\n",
       "      <td>International TV Shows, TV Dramas, TV Sci-Fi &amp;...</td>\n",
       "      <td>In a future where the elite inhabit an island ...</td>\n",
       "      <td>International TV Shows</td>\n",
       "    </tr>\n",
       "    <tr>\n",
       "      <th>1</th>\n",
       "      <td>s2</td>\n",
       "      <td>Movie</td>\n",
       "      <td>7:19</td>\n",
       "      <td>Jorge Michel Grau</td>\n",
       "      <td>Demián Bichir, Héctor Bonilla, Oscar Serrano, ...</td>\n",
       "      <td>Mexico</td>\n",
       "      <td>December 23, 2016</td>\n",
       "      <td>2016</td>\n",
       "      <td>TV-MA</td>\n",
       "      <td>93 min</td>\n",
       "      <td>Dramas, International Movies</td>\n",
       "      <td>After a devastating earthquake hits Mexico Cit...</td>\n",
       "      <td>Dramas</td>\n",
       "    </tr>\n",
       "    <tr>\n",
       "      <th>2</th>\n",
       "      <td>s3</td>\n",
       "      <td>Movie</td>\n",
       "      <td>23:59</td>\n",
       "      <td>Gilbert Chan</td>\n",
       "      <td>Tedd Chan, Stella Chung, Henley Hii, Lawrence ...</td>\n",
       "      <td>Singapore</td>\n",
       "      <td>December 20, 2018</td>\n",
       "      <td>2011</td>\n",
       "      <td>R</td>\n",
       "      <td>78 min</td>\n",
       "      <td>Horror Movies, International Movies</td>\n",
       "      <td>When an army recruit is found dead, his fellow...</td>\n",
       "      <td>Horror Movies</td>\n",
       "    </tr>\n",
       "    <tr>\n",
       "      <th>3</th>\n",
       "      <td>s4</td>\n",
       "      <td>Movie</td>\n",
       "      <td>9</td>\n",
       "      <td>Shane Acker</td>\n",
       "      <td>Elijah Wood, John C. Reilly, Jennifer Connelly...</td>\n",
       "      <td>United States</td>\n",
       "      <td>November 16, 2017</td>\n",
       "      <td>2009</td>\n",
       "      <td>PG-13</td>\n",
       "      <td>80 min</td>\n",
       "      <td>Action &amp; Adventure, Independent Movies, Sci-Fi...</td>\n",
       "      <td>In a postapocalyptic world, rag-doll robots hi...</td>\n",
       "      <td>Action &amp; Adventure</td>\n",
       "    </tr>\n",
       "    <tr>\n",
       "      <th>4</th>\n",
       "      <td>s5</td>\n",
       "      <td>Movie</td>\n",
       "      <td>21</td>\n",
       "      <td>Robert Luketic</td>\n",
       "      <td>Jim Sturgess, Kevin Spacey, Kate Bosworth, Aar...</td>\n",
       "      <td>United States</td>\n",
       "      <td>January 1, 2020</td>\n",
       "      <td>2008</td>\n",
       "      <td>PG-13</td>\n",
       "      <td>123 min</td>\n",
       "      <td>Dramas</td>\n",
       "      <td>A brilliant group of students become card-coun...</td>\n",
       "      <td>Dramas</td>\n",
       "    </tr>\n",
       "  </tbody>\n",
       "</table>\n",
       "</div>"
      ],
      "text/plain": [
       "  show_id  ...          first_category\n",
       "0      s1  ...  International TV Shows\n",
       "1      s2  ...                  Dramas\n",
       "2      s3  ...           Horror Movies\n",
       "3      s4  ...      Action & Adventure\n",
       "4      s5  ...                  Dramas\n",
       "\n",
       "[5 rows x 13 columns]"
      ]
     },
     "execution_count": 67,
     "metadata": {
      "tags": []
     },
     "output_type": "execute_result"
    }
   ],
   "source": [
    "# no caso, estamos criando uma nova coluna, mas se fosse colocado o \n",
    "# nome de uma coluna já existente, ela seria sobrescrita!\n",
    "df[\"first_category\"] = df.listed_in.apply(lambda l: l.split(\",\")[0])\n",
    "df.head()"
   ]
  },
  {
   "cell_type": "markdown",
   "metadata": {
    "id": "FZ_PQqMkZSzk"
   },
   "source": [
    "**Pergunta**: se utilizasse-mos o `apply` direto no Dataframe, o que deveria acontecer?"
   ]
  },
  {
   "cell_type": "markdown",
   "metadata": {
    "id": "C3ZZmekbdE7X"
   },
   "source": [
    "#### Exercício\n",
    "Modifique a coluna `date_added` para que ela contenha uma informação do tipo data, ao invés de string.\n",
    "\n",
    "**Dica**: utilize o módulo **datetime**, do python, e a função `strptime`"
   ]
  },
  {
   "cell_type": "code",
   "execution_count": null,
   "metadata": {
    "id": "6Cy7-9W7dJ05"
   },
   "outputs": [],
   "source": [
    "from datetime import datetime"
   ]
  },
  {
   "cell_type": "markdown",
   "metadata": {
    "id": "2_w-QI1eezrD"
   },
   "source": [
    "#### Agregações e Visualizações\n",
    "\n",
    "Assim como as Series, o Dataframe também possui integração com o Matplotlib! Como as colunas são Series, podemos fazer os seus gráficos de maneira individual:"
   ]
  },
  {
   "cell_type": "code",
   "execution_count": 73,
   "metadata": {
    "colab": {
     "base_uri": "https://localhost:8080/",
     "height": 282
    },
    "executionInfo": {
     "elapsed": 429,
     "status": "ok",
     "timestamp": 1622579867832,
     "user": {
      "displayName": "Lucas Peres",
      "photoUrl": "https://lh3.googleusercontent.com/a-/AOh14GhAmWsfdcPr7ldFfZ6ZmysZV75wsbmmI87oJl2ZXQ=s64",
      "userId": "11950412691737885275"
     },
     "user_tz": 180
    },
    "id": "fzvwQkHbeAqv",
    "outputId": "8959a8dd-51b4-492a-929c-e9f1983f9eb9"
   },
   "outputs": [
    {
     "data": {
      "text/plain": [
       "<matplotlib.axes._subplots.AxesSubplot at 0x7f8a679da1d0>"
      ]
     },
     "execution_count": 73,
     "metadata": {
      "tags": []
     },
     "output_type": "execute_result"
    },
    {
     "data": {
      "image/png": "[encoded data removed]",
      "text/plain": [
       "<Figure size 432x288 with 1 Axes>"
      ]
     },
     "metadata": {
      "needs_background": "light",
      "tags": []
     },
     "output_type": "display_data"
    }
   ],
   "source": [
    "df.release_year.hist()"
   ]
  },
  {
   "cell_type": "markdown",
   "metadata": {
    "id": "Ie9KGl6QaRdb"
   },
   "source": [
    "Mas também podemos realizar o plot do Dataframe inteiro! (no caso, ele realiza o plot apenas das colunas numéricas, mas ainda sim é bem interessante)"
   ]
  },
  {
   "cell_type": "code",
   "execution_count": 74,
   "metadata": {
    "colab": {
     "base_uri": "https://localhost:8080/",
     "height": 282
    },
    "executionInfo": {
     "elapsed": 753,
     "status": "ok",
     "timestamp": 1622579883755,
     "user": {
      "displayName": "Lucas Peres",
      "photoUrl": "https://lh3.googleusercontent.com/a-/AOh14GhAmWsfdcPr7ldFfZ6ZmysZV75wsbmmI87oJl2ZXQ=s64",
      "userId": "11950412691737885275"
     },
     "user_tz": 180
    },
    "id": "VFQbUEKZaJS2",
    "outputId": "5188707c-b3e8-4ae9-db98-015005337ddd"
   },
   "outputs": [
    {
     "data": {
      "text/plain": [
       "<matplotlib.axes._subplots.AxesSubplot at 0x7f8a67968cd0>"
      ]
     },
     "execution_count": 74,
     "metadata": {
      "tags": []
     },
     "output_type": "execute_result"
    },
    {
     "data": {
      "image/png": "[encoded data removed]",
      "text/plain": [
       "<Figure size 432x288 with 1 Axes>"
      ]
     },
     "metadata": {
      "needs_background": "light",
      "tags": []
     },
     "output_type": "display_data"
    }
   ],
   "source": [
    "df.plot() # por padrão, ele faz um gráfico de linha dos atributos numéricos"
   ]
  },
  {
   "cell_type": "code",
   "execution_count": 79,
   "metadata": {
    "colab": {
     "base_uri": "https://localhost:8080/",
     "height": 315
    },
    "executionInfo": {
     "elapsed": 361,
     "status": "ok",
     "timestamp": 1622579978631,
     "user": {
      "displayName": "Lucas Peres",
      "photoUrl": "https://lh3.googleusercontent.com/a-/AOh14GhAmWsfdcPr7ldFfZ6ZmysZV75wsbmmI87oJl2ZXQ=s64",
      "userId": "11950412691737885275"
     },
     "user_tz": 180
    },
    "id": "MAq2F8xOa5j6",
    "outputId": "9d8cdcf4-b96d-49e9-b70b-16aa073f262d"
   },
   "outputs": [
    {
     "data": {
      "text/plain": [
       "array([[<matplotlib.axes._subplots.AxesSubplot object at 0x7f8a6a08ae50>]],\n",
       "      dtype=object)"
      ]
     },
     "execution_count": 79,
     "metadata": {
      "tags": []
     },
     "output_type": "execute_result"
    },
    {
     "data": {
      "image/png": "[encoded data removed]",
      "text/plain": [
       "<Figure size 432x288 with 1 Axes>"
      ]
     },
     "metadata": {
      "needs_background": "light",
      "tags": []
     },
     "output_type": "display_data"
    }
   ],
   "source": [
    "df.hist() # se quisermos, podemos visualizar os histogramas também"
   ]
  },
  {
   "cell_type": "markdown",
   "metadata": {
    "id": "0e6tf98-bBYq"
   },
   "source": [
    "Muitas vezes, a informação que desejamos obter não está diretamente descrita no dado. Precisamos combinar várias linhas para chegar a essa informação.\n",
    "\n",
    "Por exemplo: quantos e quais tipos de conteúdos tem na Netflix?"
   ]
  },
  {
   "cell_type": "code",
   "execution_count": 87,
   "metadata": {
    "colab": {
     "base_uri": "https://localhost:8080/"
    },
    "executionInfo": {
     "elapsed": 427,
     "status": "ok",
     "timestamp": 1622580147651,
     "user": {
      "displayName": "Lucas Peres",
      "photoUrl": "https://lh3.googleusercontent.com/a-/AOh14GhAmWsfdcPr7ldFfZ6ZmysZV75wsbmmI87oJl2ZXQ=s64",
      "userId": "11950412691737885275"
     },
     "user_tz": 180
    },
    "id": "zovFFstufCmJ",
    "outputId": "42c80eb3-4a11-43a2-c4c7-3e8b31087f0d"
   },
   "outputs": [
    {
     "data": {
      "text/plain": [
       "Movie      5377\n",
       "TV Show    2410\n",
       "Name: type, dtype: int64"
      ]
     },
     "execution_count": 87,
     "metadata": {
      "tags": []
     },
     "output_type": "execute_result"
    }
   ],
   "source": [
    "df.type.value_counts()"
   ]
  },
  {
   "cell_type": "code",
   "execution_count": 95,
   "metadata": {
    "colab": {
     "base_uri": "https://localhost:8080/"
    },
    "executionInfo": {
     "elapsed": 401,
     "status": "ok",
     "timestamp": 1622580422608,
     "user": {
      "displayName": "Lucas Peres",
      "photoUrl": "https://lh3.googleusercontent.com/a-/AOh14GhAmWsfdcPr7ldFfZ6ZmysZV75wsbmmI87oJl2ZXQ=s64",
      "userId": "11950412691737885275"
     },
     "user_tz": 180
    },
    "id": "Azd-DoeyU4zR",
    "outputId": "b69ef3da-bf2a-429d-8923-8bf2afba8ee2"
   },
   "outputs": [
    {
     "data": {
      "text/plain": [
       "(2011.4, 2021.0]      6271\n",
       "(2001.8, 2011.4]       997\n",
       "(1992.2, 2001.8]       240\n",
       "(1982.6, 1992.2]       128\n",
       "(1973.0, 1982.6]        79\n",
       "(1963.4, 1973.0]        37\n",
       "(1953.8, 1963.4]        20\n",
       "(1934.6, 1944.2]         8\n",
       "(1944.2, 1953.8]         6\n",
       "(1924.903, 1934.6]       1\n",
       "Name: release_year, dtype: int64"
      ]
     },
     "execution_count": 95,
     "metadata": {
      "tags": []
     },
     "output_type": "execute_result"
    }
   ],
   "source": [
    "df.release_year.value_counts(bins=10)"
   ]
  },
  {
   "cell_type": "markdown",
   "metadata": {
    "id": "p3D4V52BbR-O"
   },
   "source": [
    "O método `value_counts()` é um grande amigo nessas horas! Ele identifica QUAIS os valores únicos que aparecem e QUANTAS vezes aparecem!\n",
    "\n",
    "Como seu resultado é uma Serie, podemos construir seu gráfico facilmente:"
   ]
  },
  {
   "cell_type": "code",
   "execution_count": 82,
   "metadata": {
    "colab": {
     "base_uri": "https://localhost:8080/",
     "height": 298
    },
    "executionInfo": {
     "elapsed": 353,
     "status": "ok",
     "timestamp": 1622580025965,
     "user": {
      "displayName": "Lucas Peres",
      "photoUrl": "https://lh3.googleusercontent.com/a-/AOh14GhAmWsfdcPr7ldFfZ6ZmysZV75wsbmmI87oJl2ZXQ=s64",
      "userId": "11950412691737885275"
     },
     "user_tz": 180
    },
    "id": "Qo_kbpGxfFrr",
    "outputId": "d2d467e2-7caa-4e6d-f964-a57ce2f251ff"
   },
   "outputs": [
    {
     "data": {
      "image/png": "[encoded data removed]",
      "text/plain": [
       "<Figure size 432x288 with 1 Axes>"
      ]
     },
     "metadata": {
      "needs_background": "light",
      "tags": []
     },
     "output_type": "display_data"
    }
   ],
   "source": [
    "df.type.value_counts().plot(kind=\"bar\");"
   ]
  },
  {
   "cell_type": "code",
   "execution_count": 90,
   "metadata": {
    "colab": {
     "base_uri": "https://localhost:8080/",
     "height": 387
    },
    "executionInfo": {
     "elapsed": 576,
     "status": "ok",
     "timestamp": 1622580188156,
     "user": {
      "displayName": "Lucas Peres",
      "photoUrl": "https://lh3.googleusercontent.com/a-/AOh14GhAmWsfdcPr7ldFfZ6ZmysZV75wsbmmI87oJl2ZXQ=s64",
      "userId": "11950412691737885275"
     },
     "user_tz": 180
    },
    "id": "KTyRz6H4fYi8",
    "outputId": "1e816025-1c6b-438e-8a4c-403359ba112c"
   },
   "outputs": [
    {
     "data": {
      "text/plain": [
       "<matplotlib.axes._subplots.AxesSubplot at 0x7f8a6551d990>"
      ]
     },
     "execution_count": 90,
     "metadata": {
      "tags": []
     },
     "output_type": "execute_result"
    },
    {
     "data": {
      "image/png": "[encoded data removed]",
      "text/plain": [
       "<Figure size 432x288 with 1 Axes>"
      ]
     },
     "metadata": {
      "needs_background": "light",
      "tags": []
     },
     "output_type": "display_data"
    }
   ],
   "source": [
    "# o resultado do value_counts() é sempre ordenado e decrescente\n",
    "# portanto, para ver os valores mais/menos frequentes, basta usar head/tail\n",
    "df.first_category.value_counts().head().plot(kind=\"bar\")"
   ]
  },
  {
   "cell_type": "markdown",
   "metadata": {
    "id": "u5rm9JmFb0m_"
   },
   "source": [
    "Outra operação bem comum a ser feita são **agrupamentos**. Um Dataframe *agrupado*, diferente de um Dataframe \"normal\", não pode ser visualizado. A operação de agrupamento é um estado *intermediário*, ou seja, precisamos, depois, aplicar uma função de agregação, a qual gerará a informação do agrupamento.\n",
    "\n",
    "Por exemplo: desejamos saber, por tipo de conteúdo, quantos existem de cada categoria:"
   ]
  },
  {
   "cell_type": "code",
   "execution_count": 91,
   "metadata": {
    "colab": {
     "base_uri": "https://localhost:8080/"
    },
    "executionInfo": {
     "elapsed": 438,
     "status": "ok",
     "timestamp": 1622580258068,
     "user": {
      "displayName": "Lucas Peres",
      "photoUrl": "https://lh3.googleusercontent.com/a-/AOh14GhAmWsfdcPr7ldFfZ6ZmysZV75wsbmmI87oJl2ZXQ=s64",
      "userId": "11950412691737885275"
     },
     "user_tz": 180
    },
    "id": "bWNPs8VOfttO",
    "outputId": "e5fee96a-7e0d-46fa-95d4-9fd8ae4dad41"
   },
   "outputs": [
    {
     "data": {
      "text/plain": [
       "type     first_category              \n",
       "Movie    Dramas                          1384\n",
       "         Comedies                        1074\n",
       "         Documentaries                    751\n",
       "         Action & Adventure               721\n",
       "         Children & Family Movies         502\n",
       "         Stand-Up Comedy                  321\n",
       "         Horror Movies                    244\n",
       "         International Movies             114\n",
       "         Classic Movies                    77\n",
       "         Movies                            56\n",
       "         Thrillers                         49\n",
       "         Independent Movies                20\n",
       "         Anime Features                    19\n",
       "         Music & Musicals                  17\n",
       "         Cult Movies                       12\n",
       "         Sci-Fi & Fantasy                  11\n",
       "         Romantic Movies                    3\n",
       "         LGBTQ Movies                       1\n",
       "         Sports Movies                      1\n",
       "TV Show  International TV Shows           690\n",
       "         Crime TV Shows                   369\n",
       "         Kids' TV                         359\n",
       "         British TV Shows                 232\n",
       "         Docuseries                       194\n",
       "         Anime Series                     148\n",
       "         TV Comedies                      110\n",
       "         Reality TV                       102\n",
       "         TV Dramas                         62\n",
       "         TV Action & Adventure             37\n",
       "         Stand-Up Comedy & Talk Shows      33\n",
       "         Romantic TV Shows                 28\n",
       "         Classic & Cult TV                 21\n",
       "         TV Shows                          12\n",
       "         TV Horror                         10\n",
       "         Spanish-Language TV Shows          2\n",
       "         TV Sci-Fi & Fantasy                1\n",
       "Name: first_category, dtype: int64"
      ]
     },
     "execution_count": 91,
     "metadata": {
      "tags": []
     },
     "output_type": "execute_result"
    }
   ],
   "source": [
    "# agrupamos o dataframe pelo tipo de conteúdo\n",
    "# selecionamos a serie first_category\n",
    "# e contamos as ocorrências\n",
    "df.groupby(\"type\")[\"first_category\"].value_counts()"
   ]
  },
  {
   "cell_type": "code",
   "execution_count": 103,
   "metadata": {
    "colab": {
     "base_uri": "https://localhost:8080/",
     "height": 172
    },
    "executionInfo": {
     "elapsed": 4,
     "status": "ok",
     "timestamp": 1622580574323,
     "user": {
      "displayName": "Lucas Peres",
      "photoUrl": "https://lh3.googleusercontent.com/a-/AOh14GhAmWsfdcPr7ldFfZ6ZmysZV75wsbmmI87oJl2ZXQ=s64",
      "userId": "11950412691737885275"
     },
     "user_tz": 180
    },
    "id": "S3zfGAtPeSVy",
    "outputId": "a4eed12b-e65a-400a-bcb9-d45e6947e8f2"
   },
   "outputs": [
    {
     "data": {
      "text/html": [
       "<div>\n",
       "<style scoped>\n",
       "    .dataframe tbody tr th:only-of-type {\n",
       "        vertical-align: middle;\n",
       "    }\n",
       "\n",
       "    .dataframe tbody tr th {\n",
       "        vertical-align: top;\n",
       "    }\n",
       "\n",
       "    .dataframe thead tr th {\n",
       "        text-align: left;\n",
       "    }\n",
       "\n",
       "    .dataframe thead tr:last-of-type th {\n",
       "        text-align: right;\n",
       "    }\n",
       "</style>\n",
       "<table border=\"1\" class=\"dataframe\">\n",
       "  <thead>\n",
       "    <tr>\n",
       "      <th></th>\n",
       "      <th colspan=\"3\" halign=\"left\">release_year</th>\n",
       "    </tr>\n",
       "    <tr>\n",
       "      <th></th>\n",
       "      <th>mean</th>\n",
       "      <th>var</th>\n",
       "      <th>std</th>\n",
       "    </tr>\n",
       "    <tr>\n",
       "      <th>type</th>\n",
       "      <th></th>\n",
       "      <th></th>\n",
       "      <th></th>\n",
       "    </tr>\n",
       "  </thead>\n",
       "  <tbody>\n",
       "    <tr>\n",
       "      <th>Movie</th>\n",
       "      <td>2012.920030</td>\n",
       "      <td>93.379020</td>\n",
       "      <td>[9.66328206341966]</td>\n",
       "    </tr>\n",
       "    <tr>\n",
       "      <th>TV Show</th>\n",
       "      <td>2016.191701</td>\n",
       "      <td>32.090259</td>\n",
       "      <td>[5.664826479158665]</td>\n",
       "    </tr>\n",
       "  </tbody>\n",
       "</table>\n",
       "</div>"
      ],
      "text/plain": [
       "        release_year                                \n",
       "                mean        var                  std\n",
       "type                                                \n",
       "Movie    2012.920030  93.379020   [9.66328206341966]\n",
       "TV Show  2016.191701  32.090259  [5.664826479158665]"
      ]
     },
     "execution_count": 103,
     "metadata": {
      "tags": []
     },
     "output_type": "execute_result"
    }
   ],
   "source": [
    "# podemos também realizar múltiplas agregações com o método agg()\n",
    "def std(x):\n",
    "  return [x.std()]\n",
    "\n",
    "df.groupby(\"type\").agg({\"release_year\": [\"mean\", \"var\", std]})"
   ]
  },
  {
   "cell_type": "markdown",
   "metadata": {
    "id": "pKjk5fvVh91Z"
   },
   "source": [
    "### Exercícios\n",
    "---\n",
    "\n",
    "Utilizando o dataset presente no [Kaggle](https://www.kaggle.com/ikarus777/best-artworks-of-all-time) (apenas o arquivo `artists.csv`), encontre as informações abaixo:"
   ]
  },
  {
   "cell_type": "markdown",
   "metadata": {
    "id": "gC4SAmRWZzRH"
   },
   "source": [
    "1- Quantos pintores possuem cada gênero artístico?"
   ]
  },
  {
   "cell_type": "code",
   "execution_count": null,
   "metadata": {
    "id": "88Zjh58jf1fl"
   },
   "outputs": [],
   "source": []
  },
  {
   "cell_type": "markdown",
   "metadata": {
    "id": "-98X8SzZjBqd"
   },
   "source": [
    "2 - Quantos pintores possuem por nacionalidade?"
   ]
  },
  {
   "cell_type": "code",
   "execution_count": null,
   "metadata": {
    "id": "5IZwccy8jF3B"
   },
   "outputs": [],
   "source": []
  },
  {
   "cell_type": "markdown",
   "metadata": {
    "id": "WZYqv7eBjGlR"
   },
   "source": [
    "3 - Quantas pinturas foram feitas por cada gênero artístico?"
   ]
  },
  {
   "cell_type": "code",
   "execution_count": null,
   "metadata": {
    "id": "o4v4SgIIjOIg"
   },
   "outputs": [],
   "source": []
  },
  {
   "cell_type": "markdown",
   "metadata": {
    "id": "PKb_d4TXjPDs"
   },
   "source": [
    "4 - A coluna `years` indica os anos de nascimento e morte de cada pintor. Crie uma coluna que indique a idade que o pintor tinha quando morreu."
   ]
  },
  {
   "cell_type": "code",
   "execution_count": null,
   "metadata": {
    "id": "y8PMiD4qjOpm"
   },
   "outputs": [],
   "source": []
  },
  {
   "cell_type": "markdown",
   "metadata": {
    "id": "vLP7n1jWkAYl"
   },
   "source": [
    "5 - Qual o tempo de vida médio dos pintores para cada gênero?"
   ]
  },
  {
   "cell_type": "code",
   "execution_count": null,
   "metadata": {
    "id": "EOB62AxlkOt0"
   },
   "outputs": [],
   "source": []
  }
 ],
 "metadata": {
  "colab": {
   "authorship_tag": "ABX9TyOPIWRik1qLUR0VXI9cTBpI",
   "collapsed_sections": [
    "Cje_c3QNW5qR",
    "91doAVqfYJ5H",
    "ijcVD0KCYML5",
    "s8gXG-PEXmjo",
    "C3ZZmekbdE7X",
    "2_w-QI1eezrD",
    "pKjk5fvVh91Z"
   ],
   "name": "Introdução ao Pandas.ipynb",
   "provenance": []
  },
  "kernelspec": {
   "display_name": "Python 3 (ipykernel)",
   "language": "python",
   "name": "python3"
  },
  "language_info": {
   "codemirror_mode": {
    "name": "ipython",
    "version": 3
   },
   "file_extension": ".py",
   "mimetype": "text/x-python",
   "name": "python",
   "nbconvert_exporter": "python",
   "pygments_lexer": "ipython3",
   "version": "3.9.7"
  }
 },
 "nbformat": 4,
 "nbformat_minor": 1
}
